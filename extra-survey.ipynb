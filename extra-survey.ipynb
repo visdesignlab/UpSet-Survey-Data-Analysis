{
 "cells": [
  {
   "cell_type": "code",
   "execution_count": 2,
   "metadata": {},
   "outputs": [],
   "source": [
    "import pandas as pd\n",
    "import altair as alt\n",
    "from scipy.stats import pearsonr\n",
    "import numpy as np"
   ]
  },
  {
   "cell_type": "code",
   "execution_count": 62,
   "metadata": {},
   "outputs": [],
   "source": [
    "survey_df = pd.read_csv('data/Survey_data.csv')\n",
    "data_df = pd.read_csv('data/final-study-raw-2.csv')\n",
    "data_df = data_df[data_df['responseId'].isin(['voq1', 'voq2', 'voq3', 'voq4',\n",
    "                                              'voq5', 'voq6', 'voq7', 'voq8'])]\n",
    "data_df['answerIsCorrect'] = data_df['correctAnswer'] == data_df['answer'] \n",
    "data_df['answerIsCorrect'] = data_df['answerIsCorrect'].apply(lambda x: 1.0 if x else 0.0)\n",
    "\n",
    "\n",
    "prolific_files = ['prolific_export_1.csv', 'prolific_export_2.csv',\n",
    "                  'prolific_export_3.csv', 'prolific_export_4.csv', 'prolific_export_5.csv', 'prolific_export_6.csv', 'prolific_export_7.csv']\n",
    "prolific_df = pd.concat([pd.read_csv('prolific-data/' + file) for file in prolific_files])\n",
    "prolific_df = prolific_df[prolific_df['Status'] == 'APPROVED']\n",
    "prolific_df['Age'] = prolific_df['Age'].apply(lambda x: int(x))\n",
    "\n",
    "\n",
    "# remove the one participant who did not finish the study\n",
    "counter_df = data_df.groupby('participantId').agg(\n",
    "    {'status': 'count'}).reset_index()\n",
    "bad_participant_ids = list(\n",
    "    counter_df[counter_df['status'] != 36]['participantId'].unique())\n",
    "data_df = data_df[~data_df['participantId'].isin(bad_participant_ids)]\n",
    "survey_df = survey_df[~survey_df['participantId'].isin(bad_participant_ids)]\n",
    "prolific_df = prolific_df[~prolific_df['Participant id'].isin(bad_participant_ids)]"
   ]
  },
  {
   "cell_type": "markdown",
   "metadata": {},
   "source": [
    "# Insanity checking if there's an obvious correlation between self reported "
   ]
  },
  {
   "cell_type": "code",
   "execution_count": 64,
   "metadata": {},
   "outputs": [
    {
     "name": "stdout",
     "output_type": "stream",
     "text": [
      "                 answerIsCorrect    answer\n",
      "answerIsCorrect         0.000000  0.207693\n",
      "answer                  0.207693  0.000000\n"
     ]
    },
    {
     "name": "stderr",
     "output_type": "stream",
     "text": [
      "/var/folders/sx/qg_tddf55hqdrbnccxfx89hm0000gn/T/ipykernel_81319/4070532673.py:11: FutureWarning: DataFrame.applymap has been deprecated. Use DataFrame.map instead.\n",
      "  p = pval.applymap(lambda x: ''.join(['*' for t in [.05, .01, .001] if x <= t]))\n"
     ]
    },
    {
     "data": {
      "text/html": [
       "<div>\n",
       "<style scoped>\n",
       "    .dataframe tbody tr th:only-of-type {\n",
       "        vertical-align: middle;\n",
       "    }\n",
       "\n",
       "    .dataframe tbody tr th {\n",
       "        vertical-align: top;\n",
       "    }\n",
       "\n",
       "    .dataframe thead th {\n",
       "        text-align: right;\n",
       "    }\n",
       "</style>\n",
       "<table border=\"1\" class=\"dataframe\">\n",
       "  <thead>\n",
       "    <tr style=\"text-align: right;\">\n",
       "      <th></th>\n",
       "      <th>answerIsCorrect</th>\n",
       "      <th>answer</th>\n",
       "    </tr>\n",
       "  </thead>\n",
       "  <tbody>\n",
       "    <tr>\n",
       "      <th>answerIsCorrect</th>\n",
       "      <td>1.0***</td>\n",
       "      <td>0.14</td>\n",
       "    </tr>\n",
       "    <tr>\n",
       "      <th>answer</th>\n",
       "      <td>0.14</td>\n",
       "      <td>1.0***</td>\n",
       "    </tr>\n",
       "  </tbody>\n",
       "</table>\n",
       "</div>"
      ],
      "text/plain": [
       "                answerIsCorrect  answer\n",
       "answerIsCorrect          1.0***    0.14\n",
       "answer                     0.14  1.0***"
      ]
     },
     "execution_count": 64,
     "metadata": {},
     "output_type": "execute_result"
    }
   ],
   "source": [
    "participant_exp_df = survey_df[survey_df['responsePrompt'] ==\n",
    "          'How experienced are you with Data Visualization?'][['participantId', 'answer']]\n",
    "participant_exp_df['answer'] = participant_exp_df['answer'].apply(lambda x: int(x))\n",
    "\n",
    "participant_correct_df = data_df.groupby('participantId').agg({'answerIsCorrect': 'sum'}).reset_index()\n",
    "# merge data frames\n",
    "temp_df = participant_correct_df.merge(participant_exp_df, on='participantId')\n",
    "\n",
    "rho = temp_df.corr(numeric_only=True)\n",
    "pval = temp_df.corr(method=lambda x, y: pearsonr(x, y)[1], numeric_only=True) - np.eye(*rho.shape)\n",
    "p = pval.applymap(lambda x: ''.join(['*' for t in [.05, .01, .001] if x <= t]))\n",
    "print(pval)\n",
    "rho.round(2).astype(str) + p"
   ]
  },
  {
   "cell_type": "code",
   "execution_count": 49,
   "metadata": {},
   "outputs": [
    {
     "data": {
      "text/html": [
       "\n",
       "<style>\n",
       "  #altair-viz-dc38010b0aea418899a6741403b9d4c4.vega-embed {\n",
       "    width: 100%;\n",
       "    display: flex;\n",
       "  }\n",
       "\n",
       "  #altair-viz-dc38010b0aea418899a6741403b9d4c4.vega-embed details,\n",
       "  #altair-viz-dc38010b0aea418899a6741403b9d4c4.vega-embed details summary {\n",
       "    position: relative;\n",
       "  }\n",
       "</style>\n",
       "<div id=\"altair-viz-dc38010b0aea418899a6741403b9d4c4\"></div>\n",
       "<script type=\"text/javascript\">\n",
       "  var VEGA_DEBUG = (typeof VEGA_DEBUG == \"undefined\") ? {} : VEGA_DEBUG;\n",
       "  (function(spec, embedOpt){\n",
       "    let outputDiv = document.currentScript.previousElementSibling;\n",
       "    if (outputDiv.id !== \"altair-viz-dc38010b0aea418899a6741403b9d4c4\") {\n",
       "      outputDiv = document.getElementById(\"altair-viz-dc38010b0aea418899a6741403b9d4c4\");\n",
       "    }\n",
       "    const paths = {\n",
       "      \"vega\": \"https://cdn.jsdelivr.net/npm/vega@5?noext\",\n",
       "      \"vega-lib\": \"https://cdn.jsdelivr.net/npm/vega-lib?noext\",\n",
       "      \"vega-lite\": \"https://cdn.jsdelivr.net/npm/vega-lite@5.20.1?noext\",\n",
       "      \"vega-embed\": \"https://cdn.jsdelivr.net/npm/vega-embed@6?noext\",\n",
       "    };\n",
       "\n",
       "    function maybeLoadScript(lib, version) {\n",
       "      var key = `${lib.replace(\"-\", \"\")}_version`;\n",
       "      return (VEGA_DEBUG[key] == version) ?\n",
       "        Promise.resolve(paths[lib]) :\n",
       "        new Promise(function(resolve, reject) {\n",
       "          var s = document.createElement('script');\n",
       "          document.getElementsByTagName(\"head\")[0].appendChild(s);\n",
       "          s.async = true;\n",
       "          s.onload = () => {\n",
       "            VEGA_DEBUG[key] = version;\n",
       "            return resolve(paths[lib]);\n",
       "          };\n",
       "          s.onerror = () => reject(`Error loading script: ${paths[lib]}`);\n",
       "          s.src = paths[lib];\n",
       "        });\n",
       "    }\n",
       "\n",
       "    function showError(err) {\n",
       "      outputDiv.innerHTML = `<div class=\"error\" style=\"color:red;\">${err}</div>`;\n",
       "      throw err;\n",
       "    }\n",
       "\n",
       "    function displayChart(vegaEmbed) {\n",
       "      vegaEmbed(outputDiv, spec, embedOpt)\n",
       "        .catch(err => showError(`Javascript Error: ${err.message}<br>This usually means there's a typo in your chart specification. See the javascript console for the full traceback.`));\n",
       "    }\n",
       "\n",
       "    if(typeof define === \"function\" && define.amd) {\n",
       "      requirejs.config({paths});\n",
       "      require([\"vega-embed\"], displayChart, err => showError(`Error loading script: ${err.message}`));\n",
       "    } else {\n",
       "      maybeLoadScript(\"vega\", \"5\")\n",
       "        .then(() => maybeLoadScript(\"vega-lite\", \"5.20.1\"))\n",
       "        .then(() => maybeLoadScript(\"vega-embed\", \"6\"))\n",
       "        .catch(showError)\n",
       "        .then(() => displayChart(vegaEmbed));\n",
       "    }\n",
       "  })({\"config\": {\"view\": {\"continuousWidth\": 300, \"continuousHeight\": 300}}, \"data\": {\"name\": \"data-947fb4edb4e9cc213720699a0aae848b\"}, \"mark\": {\"type\": \"point\"}, \"encoding\": {\"color\": {\"field\": \"answer\", \"type\": \"nominal\"}, \"x\": {\"field\": \"answerIsCorrect\", \"type\": \"quantitative\"}, \"y\": {\"field\": \"answer\", \"type\": \"ordinal\"}, \"yOffset\": {\"field\": \"jitter\", \"type\": \"quantitative\"}}, \"transform\": [{\"calculate\": \"0.3*random()\", \"as\": \"jitter\"}], \"$schema\": \"https://vega.github.io/schema/vega-lite/v5.20.1.json\", \"datasets\": {\"data-947fb4edb4e9cc213720699a0aae848b\": [{\"participantId\": \"574dc90512d86b000f833ab0\", \"answerIsCorrect\": 21.0, \"answer\": 3}, {\"participantId\": \"5755c957eb80c4000741a9ce\", \"answerIsCorrect\": 22.0, \"answer\": 5}, {\"participantId\": \"5955a3eb98c9c400019f5c5f\", \"answerIsCorrect\": 18.0, \"answer\": 1}, {\"participantId\": \"597fe89a1b41a20001749f57\", \"answerIsCorrect\": 21.0, \"answer\": 4}, {\"participantId\": \"5997043dbbe84800017964a7\", \"answerIsCorrect\": 11.0, \"answer\": 1}, {\"participantId\": \"5a893c8cf49c9a0001f3a221\", \"answerIsCorrect\": 20.0, \"answer\": 2}, {\"participantId\": \"5aebc4ac75deca00016252ea\", \"answerIsCorrect\": 14.0, \"answer\": 4}, {\"participantId\": \"5ba855d47c0ebe0001272f70\", \"answerIsCorrect\": 18.0, \"answer\": 2}, {\"participantId\": \"5bf60707345b9b00016f0e97\", \"answerIsCorrect\": 22.0, \"answer\": 2}, {\"participantId\": \"5c6c260dce4e560001f75731\", \"answerIsCorrect\": 22.0, \"answer\": 4}, {\"participantId\": \"5dd71896670d1a6af9f20eee\", \"answerIsCorrect\": 20.0, \"answer\": 4}, {\"participantId\": \"5deb9c5a4de9422935efe5e7\", \"answerIsCorrect\": 22.0, \"answer\": 1}, {\"participantId\": \"5dff767f69a117bc2fbd4be8\", \"answerIsCorrect\": 22.0, \"answer\": 2}, {\"participantId\": \"5e02e5144acfb9e385bb4c5a\", \"answerIsCorrect\": 24.0, \"answer\": 3}, {\"participantId\": \"5e63cacbe43f28152567f42b\", \"answerIsCorrect\": 21.0, \"answer\": 2}, {\"participantId\": \"5ecc0077922a5d0a247e79ac\", \"answerIsCorrect\": 23.0, \"answer\": 3}, {\"participantId\": \"5ece9e3b3a19db0cf5af6692\", \"answerIsCorrect\": 18.0, \"answer\": 4}, {\"participantId\": \"5ed7b0c59a2ae024836e32d5\", \"answerIsCorrect\": 17.0, \"answer\": 2}, {\"participantId\": \"5ee1cf1e0df8e55c6b9e1f1a\", \"answerIsCorrect\": 19.0, \"answer\": 4}, {\"participantId\": \"5efb49177e130c0785b93842\", \"answerIsCorrect\": 21.0, \"answer\": 2}, {\"participantId\": \"5f4fc497a3b4320c8928639e\", \"answerIsCorrect\": 23.0, \"answer\": 5}, {\"participantId\": \"6008793f0294554adc85c346\", \"answerIsCorrect\": 17.0, \"answer\": 2}, {\"participantId\": \"60188c50141a9415c30301e0\", \"answerIsCorrect\": 23.0, \"answer\": 1}, {\"participantId\": \"603d90a1cd5c8ec6df906814\", \"answerIsCorrect\": 23.0, \"answer\": 3}, {\"participantId\": \"60fcd02deba2c8e1ed1f0723\", \"answerIsCorrect\": 24.0, \"answer\": 4}, {\"participantId\": \"61080d1c39e080da7841eade\", \"answerIsCorrect\": 21.0, \"answer\": 2}, {\"participantId\": \"610f7244c65ae4e57858a700\", \"answerIsCorrect\": 22.0, \"answer\": 3}, {\"participantId\": \"611116ac01f43eeeb3cdeff3\", \"answerIsCorrect\": 20.0, \"answer\": 2}, {\"participantId\": \"6131597390b9cf1cfc3e8a76\", \"answerIsCorrect\": 17.0, \"answer\": 1}, {\"participantId\": \"628254ec789e78a3dcd22d99\", \"answerIsCorrect\": 22.0, \"answer\": 1}, {\"participantId\": \"62bb4c95ca36f792585cb4b5\", \"answerIsCorrect\": 18.0, \"answer\": 2}, {\"participantId\": \"6315ffdb9876ded7feefaf07\", \"answerIsCorrect\": 23.0, \"answer\": 3}, {\"participantId\": \"63ea445c759d5bf0e3f63739\", \"answerIsCorrect\": 20.0, \"answer\": 4}, {\"participantId\": \"641ecfa9f83175a3d9f63636\", \"answerIsCorrect\": 24.0, \"answer\": 3}, {\"participantId\": \"650b604dbf69c1cada1ba416\", \"answerIsCorrect\": 16.0, \"answer\": 3}, {\"participantId\": \"652d36620eca7decc5bd4466\", \"answerIsCorrect\": 21.0, \"answer\": 4}, {\"participantId\": \"653ad51a96ba72b4243e5c07\", \"answerIsCorrect\": 21.0, \"answer\": 4}, {\"participantId\": \"659ea43fea7c0cc45bbe771f\", \"answerIsCorrect\": 21.0, \"answer\": 2}, {\"participantId\": \"65da51b212ad91d9df1913fd\", \"answerIsCorrect\": 19.0, \"answer\": 4}, {\"participantId\": \"663e5c83c1599fe4e23d98ae\", \"answerIsCorrect\": 16.0, \"answer\": 1}, {\"participantId\": \"66469f5d40d395a527be84c8\", \"answerIsCorrect\": 18.0, \"answer\": 3}, {\"participantId\": \"6655a626a0a93488c8fb143b\", \"answerIsCorrect\": 22.0, \"answer\": 2}, {\"participantId\": \"6658bba67f3c13a15a86d803\", \"answerIsCorrect\": 22.0, \"answer\": 3}, {\"participantId\": \"6658cf093c3b7a255aeae9eb\", \"answerIsCorrect\": 22.0, \"answer\": 3}, {\"participantId\": \"6659e2efdb732dbd7f707a98\", \"answerIsCorrect\": 20.0, \"answer\": 1}, {\"participantId\": \"665c72ef8e6e166f13aee9f6\", \"answerIsCorrect\": 17.0, \"answer\": 3}, {\"participantId\": \"665f9223c7db27a5d32d81ab\", \"answerIsCorrect\": 22.0, \"answer\": 4}, {\"participantId\": \"6664661dece3c191d9dd5ab2\", \"answerIsCorrect\": 22.0, \"answer\": 2}, {\"participantId\": \"6668c49e07ce221e29f2bc5a\", \"answerIsCorrect\": 24.0, \"answer\": 5}, {\"participantId\": \"666c6ddc652f38b0355bc344\", \"answerIsCorrect\": 20.0, \"answer\": 4}, {\"participantId\": \"666cb540cd1f9d9f05c12105\", \"answerIsCorrect\": 23.0, \"answer\": 3}, {\"participantId\": \"666ffa40c99c2f9c3a47e3e4\", \"answerIsCorrect\": 21.0, \"answer\": 3}, {\"participantId\": \"6672eb5ae4c4aa0c62b18d46\", \"answerIsCorrect\": 18.0, \"answer\": 4}, {\"participantId\": \"6678757b671f246b4c1b4f6c\", \"answerIsCorrect\": 20.0, \"answer\": 2}, {\"participantId\": \"667ae30569196599fa6b0ba9\", \"answerIsCorrect\": 22.0, \"answer\": 2}, {\"participantId\": \"6681577c9263349cc005ad9b\", \"answerIsCorrect\": 19.0, \"answer\": 5}, {\"participantId\": \"668221ef283ed3e39954487f\", \"answerIsCorrect\": 18.0, \"answer\": 1}, {\"participantId\": \"6684089a4c68d1a42da1cfaa\", \"answerIsCorrect\": 21.0, \"answer\": 4}, {\"participantId\": \"6684445f6894372c54825fd4\", \"answerIsCorrect\": 20.0, \"answer\": 1}, {\"participantId\": \"6689878009ea0b87ff9b6ddc\", \"answerIsCorrect\": 22.0, \"answer\": 2}, {\"participantId\": \"6695703cec19c758ec8dbd7c\", \"answerIsCorrect\": 21.0, \"answer\": 3}, {\"participantId\": \"669588e8ad1745596a02a04b\", \"answerIsCorrect\": 15.0, \"answer\": 3}, {\"participantId\": \"66962f162372082a3647f572\", \"answerIsCorrect\": 22.0, \"answer\": 4}, {\"participantId\": \"669eb09f44fd00f288eb8eb6\", \"answerIsCorrect\": 22.0, \"answer\": 4}, {\"participantId\": \"66a51057a123a32824a9a9e0\", \"answerIsCorrect\": 16.0, \"answer\": 5}, {\"participantId\": \"66a90befd4b58c2cfb86e72a\", \"answerIsCorrect\": 20.0, \"answer\": 3}, {\"participantId\": \"66ade2c28a85033cab570717\", \"answerIsCorrect\": 22.0, \"answer\": 4}, {\"participantId\": \"66b544ce73d3561af98d76e1\", \"answerIsCorrect\": 23.0, \"answer\": 3}, {\"participantId\": \"66ba287d1cd394ac6c21a43c\", \"answerIsCorrect\": 22.0, \"answer\": 4}, {\"participantId\": \"66ba5f3894e5b3812210f9bb\", \"answerIsCorrect\": 21.0, \"answer\": 4}, {\"participantId\": \"66bcc667ba1619c089fecbbb\", \"answerIsCorrect\": 24.0, \"answer\": 2}, {\"participantId\": \"66bce91186a8da8151c30f61\", \"answerIsCorrect\": 22.0, \"answer\": 4}, {\"participantId\": \"66becf77a87578f124f8a036\", \"answerIsCorrect\": 22.0, \"answer\": 4}, {\"participantId\": \"66bff58ff2d1a5f273431584\", \"answerIsCorrect\": 22.0, \"answer\": 4}, {\"participantId\": \"66c4d2c2713b223511e4e676\", \"answerIsCorrect\": 20.0, \"answer\": 1}, {\"participantId\": \"66c4dee716f98496f9638591\", \"answerIsCorrect\": 20.0, \"answer\": 5}, {\"participantId\": \"66c535b047ab0893183e06d8\", \"answerIsCorrect\": 21.0, \"answer\": 2}, {\"participantId\": \"66c5d1accc092f147f94b363\", \"answerIsCorrect\": 21.0, \"answer\": 5}, {\"participantId\": \"66c5f3b24507c79830b451a7\", \"answerIsCorrect\": 22.0, \"answer\": 1}, {\"participantId\": \"66c5feea08e0368a0da64d38\", \"answerIsCorrect\": 18.0, \"answer\": 2}, {\"participantId\": \"66ccc8f8819490330c532373\", \"answerIsCorrect\": 22.0, \"answer\": 3}, {\"participantId\": \"66cdd1ad42828e8da522ddb1\", \"answerIsCorrect\": 23.0, \"answer\": 3}, {\"participantId\": \"66ce0e269e0d2cd124df4887\", \"answerIsCorrect\": 24.0, \"answer\": 1}]}}, {\"mode\": \"vega-lite\"});\n",
       "</script>"
      ],
      "text/plain": [
       "alt.Chart(...)"
      ]
     },
     "execution_count": 49,
     "metadata": {},
     "output_type": "execute_result"
    }
   ],
   "source": [
    "alt.Chart(temp_df).mark_point().encode(\n",
    "    y='answer:O',\n",
    "    yOffset=\"jitter:Q\",\n",
    "    x='answerIsCorrect:Q',\n",
    "    color='answer:N'\n",
    ").transform_calculate(\n",
    "    jitter='0.3*random()'\n",
    ")"
   ]
  },
  {
   "cell_type": "markdown",
   "metadata": {},
   "source": [
    "# Preferences"
   ]
  },
  {
   "cell_type": "code",
   "execution_count": 50,
   "metadata": {},
   "outputs": [
    {
     "data": {
      "text/html": [
       "<div>\n",
       "<style scoped>\n",
       "    .dataframe tbody tr th:only-of-type {\n",
       "        vertical-align: middle;\n",
       "    }\n",
       "\n",
       "    .dataframe tbody tr th {\n",
       "        vertical-align: top;\n",
       "    }\n",
       "\n",
       "    .dataframe thead th {\n",
       "        text-align: right;\n",
       "    }\n",
       "</style>\n",
       "<table border=\"1\" class=\"dataframe\">\n",
       "  <thead>\n",
       "    <tr style=\"text-align: right;\">\n",
       "      <th></th>\n",
       "      <th>participantId</th>\n",
       "      <th>responsePrompt</th>\n",
       "      <th>answer</th>\n",
       "    </tr>\n",
       "  </thead>\n",
       "  <tbody>\n",
       "    <tr>\n",
       "      <th>3</th>\n",
       "      <td>574dc90512d86b000f833ab0</td>\n",
       "      <td>UpSet Easy to Read?</td>\n",
       "      <td>5</td>\n",
       "    </tr>\n",
       "    <tr>\n",
       "      <th>4</th>\n",
       "      <td>574dc90512d86b000f833ab0</td>\n",
       "      <td>Text Easy to Read?</td>\n",
       "      <td>4</td>\n",
       "    </tr>\n",
       "    <tr>\n",
       "      <th>5</th>\n",
       "      <td>574dc90512d86b000f833ab0</td>\n",
       "      <td>Text Length?</td>\n",
       "      <td>3</td>\n",
       "    </tr>\n",
       "    <tr>\n",
       "      <th>12</th>\n",
       "      <td>5755c957eb80c4000741a9ce</td>\n",
       "      <td>UpSet Easy to Read?</td>\n",
       "      <td>5</td>\n",
       "    </tr>\n",
       "    <tr>\n",
       "      <th>13</th>\n",
       "      <td>5755c957eb80c4000741a9ce</td>\n",
       "      <td>Text Easy to Read?</td>\n",
       "      <td>4</td>\n",
       "    </tr>\n",
       "    <tr>\n",
       "      <th>...</th>\n",
       "      <td>...</td>\n",
       "      <td>...</td>\n",
       "      <td>...</td>\n",
       "    </tr>\n",
       "    <tr>\n",
       "      <th>733</th>\n",
       "      <td>66cdd1ad42828e8da522ddb1</td>\n",
       "      <td>Text Easy to Read?</td>\n",
       "      <td>2</td>\n",
       "    </tr>\n",
       "    <tr>\n",
       "      <th>734</th>\n",
       "      <td>66cdd1ad42828e8da522ddb1</td>\n",
       "      <td>Text Length?</td>\n",
       "      <td>4</td>\n",
       "    </tr>\n",
       "    <tr>\n",
       "      <th>741</th>\n",
       "      <td>66ce0e269e0d2cd124df4887</td>\n",
       "      <td>UpSet Easy to Read?</td>\n",
       "      <td>3</td>\n",
       "    </tr>\n",
       "    <tr>\n",
       "      <th>742</th>\n",
       "      <td>66ce0e269e0d2cd124df4887</td>\n",
       "      <td>Text Easy to Read?</td>\n",
       "      <td>4</td>\n",
       "    </tr>\n",
       "    <tr>\n",
       "      <th>743</th>\n",
       "      <td>66ce0e269e0d2cd124df4887</td>\n",
       "      <td>Text Length?</td>\n",
       "      <td>3</td>\n",
       "    </tr>\n",
       "  </tbody>\n",
       "</table>\n",
       "<p>249 rows × 3 columns</p>\n",
       "</div>"
      ],
      "text/plain": [
       "                participantId       responsePrompt  answer\n",
       "3    574dc90512d86b000f833ab0  UpSet Easy to Read?       5\n",
       "4    574dc90512d86b000f833ab0   Text Easy to Read?       4\n",
       "5    574dc90512d86b000f833ab0         Text Length?       3\n",
       "12   5755c957eb80c4000741a9ce  UpSet Easy to Read?       5\n",
       "13   5755c957eb80c4000741a9ce   Text Easy to Read?       4\n",
       "..                        ...                  ...     ...\n",
       "733  66cdd1ad42828e8da522ddb1   Text Easy to Read?       2\n",
       "734  66cdd1ad42828e8da522ddb1         Text Length?       4\n",
       "741  66ce0e269e0d2cd124df4887  UpSet Easy to Read?       3\n",
       "742  66ce0e269e0d2cd124df4887   Text Easy to Read?       4\n",
       "743  66ce0e269e0d2cd124df4887         Text Length?       3\n",
       "\n",
       "[249 rows x 3 columns]"
      ]
     },
     "execution_count": 50,
     "metadata": {},
     "output_type": "execute_result"
    }
   ],
   "source": [
    "rel_qs = {\n",
    "    'Did you find UpSet plots easy to read?': 'UpSet Easy to Read?',\n",
    "    'Did you find the text descriptions easy to read?': 'Text Easy to Read?',\n",
    "    'Did you find the text description too short or too long?': 'Text Length?',\n",
    "}\n",
    "\n",
    "pref_df = survey_df[survey_df['responsePrompt'].isin(rel_qs.keys())][['participantId', 'responsePrompt', 'answer']]\n",
    "pref_df['answer'] = pref_df['answer'].apply(lambda x: int(x))\n",
    "pref_df['responsePrompt'] = pref_df['responsePrompt'].map(rel_qs)\n",
    "pref_df"
   ]
  },
  {
   "cell_type": "code",
   "execution_count": 78,
   "metadata": {},
   "outputs": [
    {
     "data": {
      "text/html": [
       "\n",
       "<style>\n",
       "  #altair-viz-bdf7140a1155456fb8e3fd33286aa487.vega-embed {\n",
       "    width: 100%;\n",
       "    display: flex;\n",
       "  }\n",
       "\n",
       "  #altair-viz-bdf7140a1155456fb8e3fd33286aa487.vega-embed details,\n",
       "  #altair-viz-bdf7140a1155456fb8e3fd33286aa487.vega-embed details summary {\n",
       "    position: relative;\n",
       "  }\n",
       "</style>\n",
       "<div id=\"altair-viz-bdf7140a1155456fb8e3fd33286aa487\"></div>\n",
       "<script type=\"text/javascript\">\n",
       "  var VEGA_DEBUG = (typeof VEGA_DEBUG == \"undefined\") ? {} : VEGA_DEBUG;\n",
       "  (function(spec, embedOpt){\n",
       "    let outputDiv = document.currentScript.previousElementSibling;\n",
       "    if (outputDiv.id !== \"altair-viz-bdf7140a1155456fb8e3fd33286aa487\") {\n",
       "      outputDiv = document.getElementById(\"altair-viz-bdf7140a1155456fb8e3fd33286aa487\");\n",
       "    }\n",
       "    const paths = {\n",
       "      \"vega\": \"https://cdn.jsdelivr.net/npm/vega@5?noext\",\n",
       "      \"vega-lib\": \"https://cdn.jsdelivr.net/npm/vega-lib?noext\",\n",
       "      \"vega-lite\": \"https://cdn.jsdelivr.net/npm/vega-lite@5.20.1?noext\",\n",
       "      \"vega-embed\": \"https://cdn.jsdelivr.net/npm/vega-embed@6?noext\",\n",
       "    };\n",
       "\n",
       "    function maybeLoadScript(lib, version) {\n",
       "      var key = `${lib.replace(\"-\", \"\")}_version`;\n",
       "      return (VEGA_DEBUG[key] == version) ?\n",
       "        Promise.resolve(paths[lib]) :\n",
       "        new Promise(function(resolve, reject) {\n",
       "          var s = document.createElement('script');\n",
       "          document.getElementsByTagName(\"head\")[0].appendChild(s);\n",
       "          s.async = true;\n",
       "          s.onload = () => {\n",
       "            VEGA_DEBUG[key] = version;\n",
       "            return resolve(paths[lib]);\n",
       "          };\n",
       "          s.onerror = () => reject(`Error loading script: ${paths[lib]}`);\n",
       "          s.src = paths[lib];\n",
       "        });\n",
       "    }\n",
       "\n",
       "    function showError(err) {\n",
       "      outputDiv.innerHTML = `<div class=\"error\" style=\"color:red;\">${err}</div>`;\n",
       "      throw err;\n",
       "    }\n",
       "\n",
       "    function displayChart(vegaEmbed) {\n",
       "      vegaEmbed(outputDiv, spec, embedOpt)\n",
       "        .catch(err => showError(`Javascript Error: ${err.message}<br>This usually means there's a typo in your chart specification. See the javascript console for the full traceback.`));\n",
       "    }\n",
       "\n",
       "    if(typeof define === \"function\" && define.amd) {\n",
       "      requirejs.config({paths});\n",
       "      require([\"vega-embed\"], displayChart, err => showError(`Error loading script: ${err.message}`));\n",
       "    } else {\n",
       "      maybeLoadScript(\"vega\", \"5\")\n",
       "        .then(() => maybeLoadScript(\"vega-lite\", \"5.20.1\"))\n",
       "        .then(() => maybeLoadScript(\"vega-embed\", \"6\"))\n",
       "        .catch(showError)\n",
       "        .then(() => displayChart(vegaEmbed));\n",
       "    }\n",
       "  })({\"config\": {\"view\": {\"continuousWidth\": 300, \"continuousHeight\": 300}}, \"data\": {\"name\": \"data-eda39b8bc99ec524b5e69a4df41a5061\"}, \"facet\": {\"row\": {\"field\": \"responsePrompt\", \"type\": \"nominal\"}}, \"spec\": {\"layer\": [{\"mark\": {\"type\": \"bar\"}, \"encoding\": {\"color\": {\"field\": \"responsePrompt\", \"type\": \"nominal\"}, \"x\": {\"aggregate\": \"count\", \"type\": \"quantitative\"}, \"y\": {\"field\": \"answer\", \"type\": \"ordinal\"}}}, {\"mark\": {\"type\": \"text\"}, \"encoding\": {\"text\": {\"aggregate\": \"count\", \"type\": \"quantitative\"}, \"x\": {\"aggregate\": \"count\", \"type\": \"quantitative\"}, \"y\": {\"field\": \"answer\", \"type\": \"ordinal\"}}}]}, \"$schema\": \"https://vega.github.io/schema/vega-lite/v5.20.1.json\", \"datasets\": {\"data-eda39b8bc99ec524b5e69a4df41a5061\": [{\"participantId\": \"574dc90512d86b000f833ab0\", \"responsePrompt\": \"UpSet Easy to Read?\", \"answer\": 5}, {\"participantId\": \"574dc90512d86b000f833ab0\", \"responsePrompt\": \"Text Easy to Read?\", \"answer\": 4}, {\"participantId\": \"574dc90512d86b000f833ab0\", \"responsePrompt\": \"Text Length?\", \"answer\": 3}, {\"participantId\": \"5755c957eb80c4000741a9ce\", \"responsePrompt\": \"UpSet Easy to Read?\", \"answer\": 5}, {\"participantId\": \"5755c957eb80c4000741a9ce\", \"responsePrompt\": \"Text Easy to Read?\", \"answer\": 4}, {\"participantId\": \"5755c957eb80c4000741a9ce\", \"responsePrompt\": \"Text Length?\", \"answer\": 2}, {\"participantId\": \"5955a3eb98c9c400019f5c5f\", \"responsePrompt\": \"UpSet Easy to Read?\", \"answer\": 4}, {\"participantId\": \"5955a3eb98c9c400019f5c5f\", \"responsePrompt\": \"Text Easy to Read?\", \"answer\": 5}, {\"participantId\": \"5955a3eb98c9c400019f5c5f\", \"responsePrompt\": \"Text Length?\", \"answer\": 5}, {\"participantId\": \"597fe89a1b41a20001749f57\", \"responsePrompt\": \"UpSet Easy to Read?\", \"answer\": 5}, {\"participantId\": \"597fe89a1b41a20001749f57\", \"responsePrompt\": \"Text Easy to Read?\", \"answer\": 4}, {\"participantId\": \"597fe89a1b41a20001749f57\", \"responsePrompt\": \"Text Length?\", \"answer\": 3}, {\"participantId\": \"5997043dbbe84800017964a7\", \"responsePrompt\": \"UpSet Easy to Read?\", \"answer\": 1}, {\"participantId\": \"5997043dbbe84800017964a7\", \"responsePrompt\": \"Text Easy to Read?\", \"answer\": 4}, {\"participantId\": \"5997043dbbe84800017964a7\", \"responsePrompt\": \"Text Length?\", \"answer\": 3}, {\"participantId\": \"5a893c8cf49c9a0001f3a221\", \"responsePrompt\": \"UpSet Easy to Read?\", \"answer\": 2}, {\"participantId\": \"5a893c8cf49c9a0001f3a221\", \"responsePrompt\": \"Text Easy to Read?\", \"answer\": 3}, {\"participantId\": \"5a893c8cf49c9a0001f3a221\", \"responsePrompt\": \"Text Length?\", \"answer\": 2}, {\"participantId\": \"5aebc4ac75deca00016252ea\", \"responsePrompt\": \"UpSet Easy to Read?\", \"answer\": 4}, {\"participantId\": \"5aebc4ac75deca00016252ea\", \"responsePrompt\": \"Text Easy to Read?\", \"answer\": 5}, {\"participantId\": \"5aebc4ac75deca00016252ea\", \"responsePrompt\": \"Text Length?\", \"answer\": 4}, {\"participantId\": \"5ba855d47c0ebe0001272f70\", \"responsePrompt\": \"UpSet Easy to Read?\", \"answer\": 5}, {\"participantId\": \"5ba855d47c0ebe0001272f70\", \"responsePrompt\": \"Text Easy to Read?\", \"answer\": 3}, {\"participantId\": \"5ba855d47c0ebe0001272f70\", \"responsePrompt\": \"Text Length?\", \"answer\": 3}, {\"participantId\": \"5bf60707345b9b00016f0e97\", \"responsePrompt\": \"UpSet Easy to Read?\", \"answer\": 4}, {\"participantId\": \"5bf60707345b9b00016f0e97\", \"responsePrompt\": \"Text Easy to Read?\", \"answer\": 3}, {\"participantId\": \"5bf60707345b9b00016f0e97\", \"responsePrompt\": \"Text Length?\", \"answer\": 3}, {\"participantId\": \"5c6c260dce4e560001f75731\", \"responsePrompt\": \"UpSet Easy to Read?\", \"answer\": 4}, {\"participantId\": \"5c6c260dce4e560001f75731\", \"responsePrompt\": \"Text Easy to Read?\", \"answer\": 3}, {\"participantId\": \"5c6c260dce4e560001f75731\", \"responsePrompt\": \"Text Length?\", \"answer\": 4}, {\"participantId\": \"5dd71896670d1a6af9f20eee\", \"responsePrompt\": \"UpSet Easy to Read?\", \"answer\": 2}, {\"participantId\": \"5dd71896670d1a6af9f20eee\", \"responsePrompt\": \"Text Easy to Read?\", \"answer\": 3}, {\"participantId\": \"5dd71896670d1a6af9f20eee\", \"responsePrompt\": \"Text Length?\", \"answer\": 3}, {\"participantId\": \"5deb9c5a4de9422935efe5e7\", \"responsePrompt\": \"UpSet Easy to Read?\", \"answer\": 4}, {\"participantId\": \"5deb9c5a4de9422935efe5e7\", \"responsePrompt\": \"Text Easy to Read?\", \"answer\": 2}, {\"participantId\": \"5deb9c5a4de9422935efe5e7\", \"responsePrompt\": \"Text Length?\", \"answer\": 3}, {\"participantId\": \"5dff767f69a117bc2fbd4be8\", \"responsePrompt\": \"UpSet Easy to Read?\", \"answer\": 4}, {\"participantId\": \"5dff767f69a117bc2fbd4be8\", \"responsePrompt\": \"Text Easy to Read?\", \"answer\": 3}, {\"participantId\": \"5dff767f69a117bc2fbd4be8\", \"responsePrompt\": \"Text Length?\", \"answer\": 3}, {\"participantId\": \"5e02e5144acfb9e385bb4c5a\", \"responsePrompt\": \"UpSet Easy to Read?\", \"answer\": 3}, {\"participantId\": \"5e02e5144acfb9e385bb4c5a\", \"responsePrompt\": \"Text Easy to Read?\", \"answer\": 1}, {\"participantId\": \"5e02e5144acfb9e385bb4c5a\", \"responsePrompt\": \"Text Length?\", \"answer\": 3}, {\"participantId\": \"5e63cacbe43f28152567f42b\", \"responsePrompt\": \"UpSet Easy to Read?\", \"answer\": 4}, {\"participantId\": \"5e63cacbe43f28152567f42b\", \"responsePrompt\": \"Text Easy to Read?\", \"answer\": 3}, {\"participantId\": \"5e63cacbe43f28152567f42b\", \"responsePrompt\": \"Text Length?\", \"answer\": 4}, {\"participantId\": \"5ecc0077922a5d0a247e79ac\", \"responsePrompt\": \"UpSet Easy to Read?\", \"answer\": 5}, {\"participantId\": \"5ecc0077922a5d0a247e79ac\", \"responsePrompt\": \"Text Easy to Read?\", \"answer\": 3}, {\"participantId\": \"5ecc0077922a5d0a247e79ac\", \"responsePrompt\": \"Text Length?\", \"answer\": 2}, {\"participantId\": \"5ece9e3b3a19db0cf5af6692\", \"responsePrompt\": \"UpSet Easy to Read?\", \"answer\": 4}, {\"participantId\": \"5ece9e3b3a19db0cf5af6692\", \"responsePrompt\": \"Text Easy to Read?\", \"answer\": 3}, {\"participantId\": \"5ece9e3b3a19db0cf5af6692\", \"responsePrompt\": \"Text Length?\", \"answer\": 4}, {\"participantId\": \"5ed7b0c59a2ae024836e32d5\", \"responsePrompt\": \"UpSet Easy to Read?\", \"answer\": 2}, {\"participantId\": \"5ed7b0c59a2ae024836e32d5\", \"responsePrompt\": \"Text Easy to Read?\", \"answer\": 3}, {\"participantId\": \"5ed7b0c59a2ae024836e32d5\", \"responsePrompt\": \"Text Length?\", \"answer\": 3}, {\"participantId\": \"5ee1cf1e0df8e55c6b9e1f1a\", \"responsePrompt\": \"UpSet Easy to Read?\", \"answer\": 1}, {\"participantId\": \"5ee1cf1e0df8e55c6b9e1f1a\", \"responsePrompt\": \"Text Easy to Read?\", \"answer\": 5}, {\"participantId\": \"5ee1cf1e0df8e55c6b9e1f1a\", \"responsePrompt\": \"Text Length?\", \"answer\": 3}, {\"participantId\": \"5efb49177e130c0785b93842\", \"responsePrompt\": \"UpSet Easy to Read?\", \"answer\": 3}, {\"participantId\": \"5efb49177e130c0785b93842\", \"responsePrompt\": \"Text Easy to Read?\", \"answer\": 4}, {\"participantId\": \"5efb49177e130c0785b93842\", \"responsePrompt\": \"Text Length?\", \"answer\": 3}, {\"participantId\": \"5f4fc497a3b4320c8928639e\", \"responsePrompt\": \"UpSet Easy to Read?\", \"answer\": 5}, {\"participantId\": \"5f4fc497a3b4320c8928639e\", \"responsePrompt\": \"Text Easy to Read?\", \"answer\": 4}, {\"participantId\": \"5f4fc497a3b4320c8928639e\", \"responsePrompt\": \"Text Length?\", \"answer\": 3}, {\"participantId\": \"6008793f0294554adc85c346\", \"responsePrompt\": \"UpSet Easy to Read?\", \"answer\": 2}, {\"participantId\": \"6008793f0294554adc85c346\", \"responsePrompt\": \"Text Easy to Read?\", \"answer\": 3}, {\"participantId\": \"6008793f0294554adc85c346\", \"responsePrompt\": \"Text Length?\", \"answer\": 3}, {\"participantId\": \"60188c50141a9415c30301e0\", \"responsePrompt\": \"UpSet Easy to Read?\", \"answer\": 4}, {\"participantId\": \"60188c50141a9415c30301e0\", \"responsePrompt\": \"Text Easy to Read?\", \"answer\": 4}, {\"participantId\": \"60188c50141a9415c30301e0\", \"responsePrompt\": \"Text Length?\", \"answer\": 1}, {\"participantId\": \"603d90a1cd5c8ec6df906814\", \"responsePrompt\": \"UpSet Easy to Read?\", \"answer\": 4}, {\"participantId\": \"603d90a1cd5c8ec6df906814\", \"responsePrompt\": \"Text Easy to Read?\", \"answer\": 5}, {\"participantId\": \"603d90a1cd5c8ec6df906814\", \"responsePrompt\": \"Text Length?\", \"answer\": 3}, {\"participantId\": \"60fcd02deba2c8e1ed1f0723\", \"responsePrompt\": \"UpSet Easy to Read?\", \"answer\": 5}, {\"participantId\": \"60fcd02deba2c8e1ed1f0723\", \"responsePrompt\": \"Text Easy to Read?\", \"answer\": 3}, {\"participantId\": \"60fcd02deba2c8e1ed1f0723\", \"responsePrompt\": \"Text Length?\", \"answer\": 3}, {\"participantId\": \"61080d1c39e080da7841eade\", \"responsePrompt\": \"UpSet Easy to Read?\", \"answer\": 3}, {\"participantId\": \"61080d1c39e080da7841eade\", \"responsePrompt\": \"Text Easy to Read?\", \"answer\": 4}, {\"participantId\": \"61080d1c39e080da7841eade\", \"responsePrompt\": \"Text Length?\", \"answer\": 4}, {\"participantId\": \"610f7244c65ae4e57858a700\", \"responsePrompt\": \"UpSet Easy to Read?\", \"answer\": 4}, {\"participantId\": \"610f7244c65ae4e57858a700\", \"responsePrompt\": \"Text Easy to Read?\", \"answer\": 5}, {\"participantId\": \"610f7244c65ae4e57858a700\", \"responsePrompt\": \"Text Length?\", \"answer\": 3}, {\"participantId\": \"611116ac01f43eeeb3cdeff3\", \"responsePrompt\": \"UpSet Easy to Read?\", \"answer\": 3}, {\"participantId\": \"611116ac01f43eeeb3cdeff3\", \"responsePrompt\": \"Text Easy to Read?\", \"answer\": 4}, {\"participantId\": \"611116ac01f43eeeb3cdeff3\", \"responsePrompt\": \"Text Length?\", \"answer\": 3}, {\"participantId\": \"6131597390b9cf1cfc3e8a76\", \"responsePrompt\": \"UpSet Easy to Read?\", \"answer\": 3}, {\"participantId\": \"6131597390b9cf1cfc3e8a76\", \"responsePrompt\": \"Text Easy to Read?\", \"answer\": 4}, {\"participantId\": \"6131597390b9cf1cfc3e8a76\", \"responsePrompt\": \"Text Length?\", \"answer\": 3}, {\"participantId\": \"628254ec789e78a3dcd22d99\", \"responsePrompt\": \"UpSet Easy to Read?\", \"answer\": 5}, {\"participantId\": \"628254ec789e78a3dcd22d99\", \"responsePrompt\": \"Text Easy to Read?\", \"answer\": 5}, {\"participantId\": \"628254ec789e78a3dcd22d99\", \"responsePrompt\": \"Text Length?\", \"answer\": 3}, {\"participantId\": \"62bb4c95ca36f792585cb4b5\", \"responsePrompt\": \"UpSet Easy to Read?\", \"answer\": 3}, {\"participantId\": \"62bb4c95ca36f792585cb4b5\", \"responsePrompt\": \"Text Easy to Read?\", \"answer\": 1}, {\"participantId\": \"62bb4c95ca36f792585cb4b5\", \"responsePrompt\": \"Text Length?\", \"answer\": 3}, {\"participantId\": \"6315ffdb9876ded7feefaf07\", \"responsePrompt\": \"UpSet Easy to Read?\", \"answer\": 4}, {\"participantId\": \"6315ffdb9876ded7feefaf07\", \"responsePrompt\": \"Text Easy to Read?\", \"answer\": 3}, {\"participantId\": \"6315ffdb9876ded7feefaf07\", \"responsePrompt\": \"Text Length?\", \"answer\": 4}, {\"participantId\": \"63ea445c759d5bf0e3f63739\", \"responsePrompt\": \"UpSet Easy to Read?\", \"answer\": 4}, {\"participantId\": \"63ea445c759d5bf0e3f63739\", \"responsePrompt\": \"Text Easy to Read?\", \"answer\": 5}, {\"participantId\": \"63ea445c759d5bf0e3f63739\", \"responsePrompt\": \"Text Length?\", \"answer\": 2}, {\"participantId\": \"641ecfa9f83175a3d9f63636\", \"responsePrompt\": \"UpSet Easy to Read?\", \"answer\": 5}, {\"participantId\": \"641ecfa9f83175a3d9f63636\", \"responsePrompt\": \"Text Easy to Read?\", \"answer\": 3}, {\"participantId\": \"641ecfa9f83175a3d9f63636\", \"responsePrompt\": \"Text Length?\", \"answer\": 3}, {\"participantId\": \"650b604dbf69c1cada1ba416\", \"responsePrompt\": \"UpSet Easy to Read?\", \"answer\": 3}, {\"participantId\": \"650b604dbf69c1cada1ba416\", \"responsePrompt\": \"Text Easy to Read?\", \"answer\": 4}, {\"participantId\": \"650b604dbf69c1cada1ba416\", \"responsePrompt\": \"Text Length?\", \"answer\": 3}, {\"participantId\": \"652d36620eca7decc5bd4466\", \"responsePrompt\": \"UpSet Easy to Read?\", \"answer\": 5}, {\"participantId\": \"652d36620eca7decc5bd4466\", \"responsePrompt\": \"Text Easy to Read?\", \"answer\": 3}, {\"participantId\": \"652d36620eca7decc5bd4466\", \"responsePrompt\": \"Text Length?\", \"answer\": 3}, {\"participantId\": \"653ad51a96ba72b4243e5c07\", \"responsePrompt\": \"UpSet Easy to Read?\", \"answer\": 4}, {\"participantId\": \"653ad51a96ba72b4243e5c07\", \"responsePrompt\": \"Text Easy to Read?\", \"answer\": 5}, {\"participantId\": \"653ad51a96ba72b4243e5c07\", \"responsePrompt\": \"Text Length?\", \"answer\": 4}, {\"participantId\": \"659ea43fea7c0cc45bbe771f\", \"responsePrompt\": \"UpSet Easy to Read?\", \"answer\": 5}, {\"participantId\": \"659ea43fea7c0cc45bbe771f\", \"responsePrompt\": \"Text Easy to Read?\", \"answer\": 4}, {\"participantId\": \"659ea43fea7c0cc45bbe771f\", \"responsePrompt\": \"Text Length?\", \"answer\": 3}, {\"participantId\": \"65da51b212ad91d9df1913fd\", \"responsePrompt\": \"UpSet Easy to Read?\", \"answer\": 3}, {\"participantId\": \"65da51b212ad91d9df1913fd\", \"responsePrompt\": \"Text Easy to Read?\", \"answer\": 2}, {\"participantId\": \"65da51b212ad91d9df1913fd\", \"responsePrompt\": \"Text Length?\", \"answer\": 4}, {\"participantId\": \"663e5c83c1599fe4e23d98ae\", \"responsePrompt\": \"UpSet Easy to Read?\", \"answer\": 4}, {\"participantId\": \"663e5c83c1599fe4e23d98ae\", \"responsePrompt\": \"Text Easy to Read?\", \"answer\": 4}, {\"participantId\": \"663e5c83c1599fe4e23d98ae\", \"responsePrompt\": \"Text Length?\", \"answer\": 3}, {\"participantId\": \"66469f5d40d395a527be84c8\", \"responsePrompt\": \"UpSet Easy to Read?\", \"answer\": 4}, {\"participantId\": \"66469f5d40d395a527be84c8\", \"responsePrompt\": \"Text Easy to Read?\", \"answer\": 4}, {\"participantId\": \"66469f5d40d395a527be84c8\", \"responsePrompt\": \"Text Length?\", \"answer\": 3}, {\"participantId\": \"6655a626a0a93488c8fb143b\", \"responsePrompt\": \"UpSet Easy to Read?\", \"answer\": 4}, {\"participantId\": \"6655a626a0a93488c8fb143b\", \"responsePrompt\": \"Text Easy to Read?\", \"answer\": 3}, {\"participantId\": \"6655a626a0a93488c8fb143b\", \"responsePrompt\": \"Text Length?\", \"answer\": 4}, {\"participantId\": \"6658bba67f3c13a15a86d803\", \"responsePrompt\": \"UpSet Easy to Read?\", \"answer\": 5}, {\"participantId\": \"6658bba67f3c13a15a86d803\", \"responsePrompt\": \"Text Easy to Read?\", \"answer\": 5}, {\"participantId\": \"6658bba67f3c13a15a86d803\", \"responsePrompt\": \"Text Length?\", \"answer\": 3}, {\"participantId\": \"6658cf093c3b7a255aeae9eb\", \"responsePrompt\": \"UpSet Easy to Read?\", \"answer\": 4}, {\"participantId\": \"6658cf093c3b7a255aeae9eb\", \"responsePrompt\": \"Text Easy to Read?\", \"answer\": 2}, {\"participantId\": \"6658cf093c3b7a255aeae9eb\", \"responsePrompt\": \"Text Length?\", \"answer\": 3}, {\"participantId\": \"6659e2efdb732dbd7f707a98\", \"responsePrompt\": \"UpSet Easy to Read?\", \"answer\": 4}, {\"participantId\": \"6659e2efdb732dbd7f707a98\", \"responsePrompt\": \"Text Easy to Read?\", \"answer\": 2}, {\"participantId\": \"6659e2efdb732dbd7f707a98\", \"responsePrompt\": \"Text Length?\", \"answer\": 4}, {\"participantId\": \"665c72ef8e6e166f13aee9f6\", \"responsePrompt\": \"UpSet Easy to Read?\", \"answer\": 2}, {\"participantId\": \"665c72ef8e6e166f13aee9f6\", \"responsePrompt\": \"Text Easy to Read?\", \"answer\": 3}, {\"participantId\": \"665c72ef8e6e166f13aee9f6\", \"responsePrompt\": \"Text Length?\", \"answer\": 3}, {\"participantId\": \"665f9223c7db27a5d32d81ab\", \"responsePrompt\": \"UpSet Easy to Read?\", \"answer\": 1}, {\"participantId\": \"665f9223c7db27a5d32d81ab\", \"responsePrompt\": \"Text Easy to Read?\", \"answer\": 3}, {\"participantId\": \"665f9223c7db27a5d32d81ab\", \"responsePrompt\": \"Text Length?\", \"answer\": 5}, {\"participantId\": \"6664661dece3c191d9dd5ab2\", \"responsePrompt\": \"UpSet Easy to Read?\", \"answer\": 4}, {\"participantId\": \"6664661dece3c191d9dd5ab2\", \"responsePrompt\": \"Text Easy to Read?\", \"answer\": 3}, {\"participantId\": \"6664661dece3c191d9dd5ab2\", \"responsePrompt\": \"Text Length?\", \"answer\": 3}, {\"participantId\": \"6668c49e07ce221e29f2bc5a\", \"responsePrompt\": \"UpSet Easy to Read?\", \"answer\": 5}, {\"participantId\": \"6668c49e07ce221e29f2bc5a\", \"responsePrompt\": \"Text Easy to Read?\", \"answer\": 4}, {\"participantId\": \"6668c49e07ce221e29f2bc5a\", \"responsePrompt\": \"Text Length?\", \"answer\": 3}, {\"participantId\": \"666c6ddc652f38b0355bc344\", \"responsePrompt\": \"UpSet Easy to Read?\", \"answer\": 3}, {\"participantId\": \"666c6ddc652f38b0355bc344\", \"responsePrompt\": \"Text Easy to Read?\", \"answer\": 5}, {\"participantId\": \"666c6ddc652f38b0355bc344\", \"responsePrompt\": \"Text Length?\", \"answer\": 4}, {\"participantId\": \"666cb540cd1f9d9f05c12105\", \"responsePrompt\": \"UpSet Easy to Read?\", \"answer\": 3}, {\"participantId\": \"666cb540cd1f9d9f05c12105\", \"responsePrompt\": \"Text Easy to Read?\", \"answer\": 5}, {\"participantId\": \"666cb540cd1f9d9f05c12105\", \"responsePrompt\": \"Text Length?\", \"answer\": 3}, {\"participantId\": \"666ffa40c99c2f9c3a47e3e4\", \"responsePrompt\": \"UpSet Easy to Read?\", \"answer\": 3}, {\"participantId\": \"666ffa40c99c2f9c3a47e3e4\", \"responsePrompt\": \"Text Easy to Read?\", \"answer\": 4}, {\"participantId\": \"666ffa40c99c2f9c3a47e3e4\", \"responsePrompt\": \"Text Length?\", \"answer\": 4}, {\"participantId\": \"6672eb5ae4c4aa0c62b18d46\", \"responsePrompt\": \"UpSet Easy to Read?\", \"answer\": 4}, {\"participantId\": \"6672eb5ae4c4aa0c62b18d46\", \"responsePrompt\": \"Text Easy to Read?\", \"answer\": 2}, {\"participantId\": \"6672eb5ae4c4aa0c62b18d46\", \"responsePrompt\": \"Text Length?\", \"answer\": 4}, {\"participantId\": \"6678757b671f246b4c1b4f6c\", \"responsePrompt\": \"UpSet Easy to Read?\", \"answer\": 3}, {\"participantId\": \"6678757b671f246b4c1b4f6c\", \"responsePrompt\": \"Text Easy to Read?\", \"answer\": 1}, {\"participantId\": \"6678757b671f246b4c1b4f6c\", \"responsePrompt\": \"Text Length?\", \"answer\": 4}, {\"participantId\": \"667ae30569196599fa6b0ba9\", \"responsePrompt\": \"UpSet Easy to Read?\", \"answer\": 5}, {\"participantId\": \"667ae30569196599fa6b0ba9\", \"responsePrompt\": \"Text Easy to Read?\", \"answer\": 5}, {\"participantId\": \"667ae30569196599fa6b0ba9\", \"responsePrompt\": \"Text Length?\", \"answer\": 3}, {\"participantId\": \"6681577c9263349cc005ad9b\", \"responsePrompt\": \"UpSet Easy to Read?\", \"answer\": 5}, {\"participantId\": \"6681577c9263349cc005ad9b\", \"responsePrompt\": \"Text Easy to Read?\", \"answer\": 3}, {\"participantId\": \"6681577c9263349cc005ad9b\", \"responsePrompt\": \"Text Length?\", \"answer\": 4}, {\"participantId\": \"668221ef283ed3e39954487f\", \"responsePrompt\": \"UpSet Easy to Read?\", \"answer\": 3}, {\"participantId\": \"668221ef283ed3e39954487f\", \"responsePrompt\": \"Text Easy to Read?\", \"answer\": 4}, {\"participantId\": \"668221ef283ed3e39954487f\", \"responsePrompt\": \"Text Length?\", \"answer\": 3}, {\"participantId\": \"6684089a4c68d1a42da1cfaa\", \"responsePrompt\": \"UpSet Easy to Read?\", \"answer\": 4}, {\"participantId\": \"6684089a4c68d1a42da1cfaa\", \"responsePrompt\": \"Text Easy to Read?\", \"answer\": 3}, {\"participantId\": \"6684089a4c68d1a42da1cfaa\", \"responsePrompt\": \"Text Length?\", \"answer\": 4}, {\"participantId\": \"6684445f6894372c54825fd4\", \"responsePrompt\": \"UpSet Easy to Read?\", \"answer\": 2}, {\"participantId\": \"6684445f6894372c54825fd4\", \"responsePrompt\": \"Text Easy to Read?\", \"answer\": 4}, {\"participantId\": \"6684445f6894372c54825fd4\", \"responsePrompt\": \"Text Length?\", \"answer\": 3}, {\"participantId\": \"6689878009ea0b87ff9b6ddc\", \"responsePrompt\": \"UpSet Easy to Read?\", \"answer\": 4}, {\"participantId\": \"6689878009ea0b87ff9b6ddc\", \"responsePrompt\": \"Text Easy to Read?\", \"answer\": 3}, {\"participantId\": \"6689878009ea0b87ff9b6ddc\", \"responsePrompt\": \"Text Length?\", \"answer\": 5}, {\"participantId\": \"6695703cec19c758ec8dbd7c\", \"responsePrompt\": \"UpSet Easy to Read?\", \"answer\": 5}, {\"participantId\": \"6695703cec19c758ec8dbd7c\", \"responsePrompt\": \"Text Easy to Read?\", \"answer\": 4}, {\"participantId\": \"6695703cec19c758ec8dbd7c\", \"responsePrompt\": \"Text Length?\", \"answer\": 4}, {\"participantId\": \"669588e8ad1745596a02a04b\", \"responsePrompt\": \"UpSet Easy to Read?\", \"answer\": 4}, {\"participantId\": \"669588e8ad1745596a02a04b\", \"responsePrompt\": \"Text Easy to Read?\", \"answer\": 3}, {\"participantId\": \"669588e8ad1745596a02a04b\", \"responsePrompt\": \"Text Length?\", \"answer\": 4}, {\"participantId\": \"66962f162372082a3647f572\", \"responsePrompt\": \"UpSet Easy to Read?\", \"answer\": 4}, {\"participantId\": \"66962f162372082a3647f572\", \"responsePrompt\": \"Text Easy to Read?\", \"answer\": 4}, {\"participantId\": \"66962f162372082a3647f572\", \"responsePrompt\": \"Text Length?\", \"answer\": 3}, {\"participantId\": \"669eb09f44fd00f288eb8eb6\", \"responsePrompt\": \"UpSet Easy to Read?\", \"answer\": 5}, {\"participantId\": \"669eb09f44fd00f288eb8eb6\", \"responsePrompt\": \"Text Easy to Read?\", \"answer\": 4}, {\"participantId\": \"669eb09f44fd00f288eb8eb6\", \"responsePrompt\": \"Text Length?\", \"answer\": 3}, {\"participantId\": \"66a51057a123a32824a9a9e0\", \"responsePrompt\": \"UpSet Easy to Read?\", \"answer\": 1}, {\"participantId\": \"66a51057a123a32824a9a9e0\", \"responsePrompt\": \"Text Easy to Read?\", \"answer\": 4}, {\"participantId\": \"66a51057a123a32824a9a9e0\", \"responsePrompt\": \"Text Length?\", \"answer\": 3}, {\"participantId\": \"66a90befd4b58c2cfb86e72a\", \"responsePrompt\": \"UpSet Easy to Read?\", \"answer\": 2}, {\"participantId\": \"66a90befd4b58c2cfb86e72a\", \"responsePrompt\": \"Text Easy to Read?\", \"answer\": 4}, {\"participantId\": \"66a90befd4b58c2cfb86e72a\", \"responsePrompt\": \"Text Length?\", \"answer\": 4}, {\"participantId\": \"66ade2c28a85033cab570717\", \"responsePrompt\": \"UpSet Easy to Read?\", \"answer\": 2}, {\"participantId\": \"66ade2c28a85033cab570717\", \"responsePrompt\": \"Text Easy to Read?\", \"answer\": 4}, {\"participantId\": \"66ade2c28a85033cab570717\", \"responsePrompt\": \"Text Length?\", \"answer\": 3}, {\"participantId\": \"66b544ce73d3561af98d76e1\", \"responsePrompt\": \"UpSet Easy to Read?\", \"answer\": 5}, {\"participantId\": \"66b544ce73d3561af98d76e1\", \"responsePrompt\": \"Text Easy to Read?\", \"answer\": 3}, {\"participantId\": \"66b544ce73d3561af98d76e1\", \"responsePrompt\": \"Text Length?\", \"answer\": 3}, {\"participantId\": \"66ba287d1cd394ac6c21a43c\", \"responsePrompt\": \"UpSet Easy to Read?\", \"answer\": 5}, {\"participantId\": \"66ba287d1cd394ac6c21a43c\", \"responsePrompt\": \"Text Easy to Read?\", \"answer\": 5}, {\"participantId\": \"66ba287d1cd394ac6c21a43c\", \"responsePrompt\": \"Text Length?\", \"answer\": 4}, {\"participantId\": \"66ba5f3894e5b3812210f9bb\", \"responsePrompt\": \"UpSet Easy to Read?\", \"answer\": 5}, {\"participantId\": \"66ba5f3894e5b3812210f9bb\", \"responsePrompt\": \"Text Easy to Read?\", \"answer\": 4}, {\"participantId\": \"66ba5f3894e5b3812210f9bb\", \"responsePrompt\": \"Text Length?\", \"answer\": 4}, {\"participantId\": \"66bcc667ba1619c089fecbbb\", \"responsePrompt\": \"UpSet Easy to Read?\", \"answer\": 5}, {\"participantId\": \"66bcc667ba1619c089fecbbb\", \"responsePrompt\": \"Text Easy to Read?\", \"answer\": 4}, {\"participantId\": \"66bcc667ba1619c089fecbbb\", \"responsePrompt\": \"Text Length?\", \"answer\": 3}, {\"participantId\": \"66bce91186a8da8151c30f61\", \"responsePrompt\": \"UpSet Easy to Read?\", \"answer\": 3}, {\"participantId\": \"66bce91186a8da8151c30f61\", \"responsePrompt\": \"Text Easy to Read?\", \"answer\": 4}, {\"participantId\": \"66bce91186a8da8151c30f61\", \"responsePrompt\": \"Text Length?\", \"answer\": 3}, {\"participantId\": \"66becf77a87578f124f8a036\", \"responsePrompt\": \"UpSet Easy to Read?\", \"answer\": 4}, {\"participantId\": \"66becf77a87578f124f8a036\", \"responsePrompt\": \"Text Easy to Read?\", \"answer\": 2}, {\"participantId\": \"66becf77a87578f124f8a036\", \"responsePrompt\": \"Text Length?\", \"answer\": 4}, {\"participantId\": \"66bff58ff2d1a5f273431584\", \"responsePrompt\": \"UpSet Easy to Read?\", \"answer\": 3}, {\"participantId\": \"66bff58ff2d1a5f273431584\", \"responsePrompt\": \"Text Easy to Read?\", \"answer\": 5}, {\"participantId\": \"66bff58ff2d1a5f273431584\", \"responsePrompt\": \"Text Length?\", \"answer\": 4}, {\"participantId\": \"66c4d2c2713b223511e4e676\", \"responsePrompt\": \"UpSet Easy to Read?\", \"answer\": 5}, {\"participantId\": \"66c4d2c2713b223511e4e676\", \"responsePrompt\": \"Text Easy to Read?\", \"answer\": 3}, {\"participantId\": \"66c4d2c2713b223511e4e676\", \"responsePrompt\": \"Text Length?\", \"answer\": 3}, {\"participantId\": \"66c4dee716f98496f9638591\", \"responsePrompt\": \"UpSet Easy to Read?\", \"answer\": 5}, {\"participantId\": \"66c4dee716f98496f9638591\", \"responsePrompt\": \"Text Easy to Read?\", \"answer\": 4}, {\"participantId\": \"66c4dee716f98496f9638591\", \"responsePrompt\": \"Text Length?\", \"answer\": 3}, {\"participantId\": \"66c535b047ab0893183e06d8\", \"responsePrompt\": \"UpSet Easy to Read?\", \"answer\": 3}, {\"participantId\": \"66c535b047ab0893183e06d8\", \"responsePrompt\": \"Text Easy to Read?\", \"answer\": 3}, {\"participantId\": \"66c535b047ab0893183e06d8\", \"responsePrompt\": \"Text Length?\", \"answer\": 3}, {\"participantId\": \"66c5d1accc092f147f94b363\", \"responsePrompt\": \"UpSet Easy to Read?\", \"answer\": 5}, {\"participantId\": \"66c5d1accc092f147f94b363\", \"responsePrompt\": \"Text Easy to Read?\", \"answer\": 2}, {\"participantId\": \"66c5d1accc092f147f94b363\", \"responsePrompt\": \"Text Length?\", \"answer\": 5}, {\"participantId\": \"66c5f3b24507c79830b451a7\", \"responsePrompt\": \"UpSet Easy to Read?\", \"answer\": 4}, {\"participantId\": \"66c5f3b24507c79830b451a7\", \"responsePrompt\": \"Text Easy to Read?\", \"answer\": 4}, {\"participantId\": \"66c5f3b24507c79830b451a7\", \"responsePrompt\": \"Text Length?\", \"answer\": 3}, {\"participantId\": \"66c5feea08e0368a0da64d38\", \"responsePrompt\": \"UpSet Easy to Read?\", \"answer\": 2}, {\"participantId\": \"66c5feea08e0368a0da64d38\", \"responsePrompt\": \"Text Easy to Read?\", \"answer\": 5}, {\"participantId\": \"66c5feea08e0368a0da64d38\", \"responsePrompt\": \"Text Length?\", \"answer\": 3}, {\"participantId\": \"66ccc8f8819490330c532373\", \"responsePrompt\": \"UpSet Easy to Read?\", \"answer\": 4}, {\"participantId\": \"66ccc8f8819490330c532373\", \"responsePrompt\": \"Text Easy to Read?\", \"answer\": 2}, {\"participantId\": \"66ccc8f8819490330c532373\", \"responsePrompt\": \"Text Length?\", \"answer\": 3}, {\"participantId\": \"66cdd1ad42828e8da522ddb1\", \"responsePrompt\": \"UpSet Easy to Read?\", \"answer\": 4}, {\"participantId\": \"66cdd1ad42828e8da522ddb1\", \"responsePrompt\": \"Text Easy to Read?\", \"answer\": 2}, {\"participantId\": \"66cdd1ad42828e8da522ddb1\", \"responsePrompt\": \"Text Length?\", \"answer\": 4}, {\"participantId\": \"66ce0e269e0d2cd124df4887\", \"responsePrompt\": \"UpSet Easy to Read?\", \"answer\": 3}, {\"participantId\": \"66ce0e269e0d2cd124df4887\", \"responsePrompt\": \"Text Easy to Read?\", \"answer\": 4}, {\"participantId\": \"66ce0e269e0d2cd124df4887\", \"responsePrompt\": \"Text Length?\", \"answer\": 3}]}}, {\"mode\": \"vega-lite\"});\n",
       "</script>"
      ],
      "text/plain": [
       "alt.FacetChart(...)"
      ]
     },
     "execution_count": 78,
     "metadata": {},
     "output_type": "execute_result"
    }
   ],
   "source": [
    "boxes = alt.Chart(pref_df).mark_bar().encode(\n",
    "    y='answer:O',\n",
    "    x='count()',\n",
    "    color='responsePrompt:N'\n",
    ")\n",
    "\n",
    "text = alt.Chart(pref_df).mark_text().encode(\n",
    "    y='answer:O',\n",
    "    x='count()',\n",
    "    text='count()'\n",
    ")\n",
    "(boxes + text).facet(row='responsePrompt:N')"
   ]
  },
  {
   "cell_type": "code",
   "execution_count": 79,
   "metadata": {},
   "outputs": [
    {
     "data": {
      "text/html": [
       "<div>\n",
       "<style scoped>\n",
       "    .dataframe tbody tr th:only-of-type {\n",
       "        vertical-align: middle;\n",
       "    }\n",
       "\n",
       "    .dataframe tbody tr th {\n",
       "        vertical-align: top;\n",
       "    }\n",
       "\n",
       "    .dataframe thead tr th {\n",
       "        text-align: left;\n",
       "    }\n",
       "</style>\n",
       "<table border=\"1\" class=\"dataframe\">\n",
       "  <thead>\n",
       "    <tr>\n",
       "      <th></th>\n",
       "      <th>responsePrompt</th>\n",
       "      <th colspan=\"2\" halign=\"left\">answer</th>\n",
       "    </tr>\n",
       "    <tr>\n",
       "      <th></th>\n",
       "      <th></th>\n",
       "      <th>mean</th>\n",
       "      <th>std</th>\n",
       "    </tr>\n",
       "  </thead>\n",
       "  <tbody>\n",
       "    <tr>\n",
       "      <th>0</th>\n",
       "      <td>Text Easy to Read?</td>\n",
       "      <td>3.542169</td>\n",
       "      <td>1.027680</td>\n",
       "    </tr>\n",
       "    <tr>\n",
       "      <th>1</th>\n",
       "      <td>Text Length?</td>\n",
       "      <td>3.313253</td>\n",
       "      <td>0.697167</td>\n",
       "    </tr>\n",
       "    <tr>\n",
       "      <th>2</th>\n",
       "      <td>UpSet Easy to Read?</td>\n",
       "      <td>3.722892</td>\n",
       "      <td>1.140317</td>\n",
       "    </tr>\n",
       "  </tbody>\n",
       "</table>\n",
       "</div>"
      ],
      "text/plain": [
       "        responsePrompt    answer          \n",
       "                            mean       std\n",
       "0   Text Easy to Read?  3.542169  1.027680\n",
       "1         Text Length?  3.313253  0.697167\n",
       "2  UpSet Easy to Read?  3.722892  1.140317"
      ]
     },
     "execution_count": 79,
     "metadata": {},
     "output_type": "execute_result"
    }
   ],
   "source": [
    "pref_df.groupby('responsePrompt').agg({'answer': ['mean', 'std'] }).reset_index()"
   ]
  },
  {
   "cell_type": "markdown",
   "metadata": {},
   "source": [
    "# Demographic data"
   ]
  },
  {
   "cell_type": "code",
   "execution_count": 70,
   "metadata": {},
   "outputs": [
    {
     "data": {
      "text/plain": [
       "Index(['Submission id', 'Participant id', 'Status',\n",
       "       'Custom study tncs accepted at', 'Started at', 'Completed at',\n",
       "       'Reviewed at', 'Archived at', 'Time taken', 'Completion code',\n",
       "       'Total approvals', 'Age', 'Sex', 'Ethnicity simplified',\n",
       "       'Country of birth', 'Country of residence', 'Nationality', 'Language',\n",
       "       'Student status', 'Employment status'],\n",
       "      dtype='object')"
      ]
     },
     "execution_count": 70,
     "metadata": {},
     "output_type": "execute_result"
    }
   ],
   "source": [
    "prolific_df.columns"
   ]
  },
  {
   "cell_type": "code",
   "execution_count": 65,
   "metadata": {},
   "outputs": [
    {
     "data": {
      "text/plain": [
       "Sex\n",
       "Male      52\n",
       "Female    31\n",
       "Name: count, dtype: int64"
      ]
     },
     "execution_count": 65,
     "metadata": {},
     "output_type": "execute_result"
    }
   ],
   "source": [
    "prolific_df['Sex'].value_counts()"
   ]
  },
  {
   "cell_type": "code",
   "execution_count": 66,
   "metadata": {},
   "outputs": [
    {
     "name": "stdout",
     "output_type": "stream",
     "text": [
      "30.710843373493976 9.637996604499282\n"
     ]
    },
    {
     "data": {
      "text/html": [
       "\n",
       "<style>\n",
       "  #altair-viz-94588dc1ba1447dd86b288b66c265de5.vega-embed {\n",
       "    width: 100%;\n",
       "    display: flex;\n",
       "  }\n",
       "\n",
       "  #altair-viz-94588dc1ba1447dd86b288b66c265de5.vega-embed details,\n",
       "  #altair-viz-94588dc1ba1447dd86b288b66c265de5.vega-embed details summary {\n",
       "    position: relative;\n",
       "  }\n",
       "</style>\n",
       "<div id=\"altair-viz-94588dc1ba1447dd86b288b66c265de5\"></div>\n",
       "<script type=\"text/javascript\">\n",
       "  var VEGA_DEBUG = (typeof VEGA_DEBUG == \"undefined\") ? {} : VEGA_DEBUG;\n",
       "  (function(spec, embedOpt){\n",
       "    let outputDiv = document.currentScript.previousElementSibling;\n",
       "    if (outputDiv.id !== \"altair-viz-94588dc1ba1447dd86b288b66c265de5\") {\n",
       "      outputDiv = document.getElementById(\"altair-viz-94588dc1ba1447dd86b288b66c265de5\");\n",
       "    }\n",
       "    const paths = {\n",
       "      \"vega\": \"https://cdn.jsdelivr.net/npm/vega@5?noext\",\n",
       "      \"vega-lib\": \"https://cdn.jsdelivr.net/npm/vega-lib?noext\",\n",
       "      \"vega-lite\": \"https://cdn.jsdelivr.net/npm/vega-lite@5.20.1?noext\",\n",
       "      \"vega-embed\": \"https://cdn.jsdelivr.net/npm/vega-embed@6?noext\",\n",
       "    };\n",
       "\n",
       "    function maybeLoadScript(lib, version) {\n",
       "      var key = `${lib.replace(\"-\", \"\")}_version`;\n",
       "      return (VEGA_DEBUG[key] == version) ?\n",
       "        Promise.resolve(paths[lib]) :\n",
       "        new Promise(function(resolve, reject) {\n",
       "          var s = document.createElement('script');\n",
       "          document.getElementsByTagName(\"head\")[0].appendChild(s);\n",
       "          s.async = true;\n",
       "          s.onload = () => {\n",
       "            VEGA_DEBUG[key] = version;\n",
       "            return resolve(paths[lib]);\n",
       "          };\n",
       "          s.onerror = () => reject(`Error loading script: ${paths[lib]}`);\n",
       "          s.src = paths[lib];\n",
       "        });\n",
       "    }\n",
       "\n",
       "    function showError(err) {\n",
       "      outputDiv.innerHTML = `<div class=\"error\" style=\"color:red;\">${err}</div>`;\n",
       "      throw err;\n",
       "    }\n",
       "\n",
       "    function displayChart(vegaEmbed) {\n",
       "      vegaEmbed(outputDiv, spec, embedOpt)\n",
       "        .catch(err => showError(`Javascript Error: ${err.message}<br>This usually means there's a typo in your chart specification. See the javascript console for the full traceback.`));\n",
       "    }\n",
       "\n",
       "    if(typeof define === \"function\" && define.amd) {\n",
       "      requirejs.config({paths});\n",
       "      require([\"vega-embed\"], displayChart, err => showError(`Error loading script: ${err.message}`));\n",
       "    } else {\n",
       "      maybeLoadScript(\"vega\", \"5\")\n",
       "        .then(() => maybeLoadScript(\"vega-lite\", \"5.20.1\"))\n",
       "        .then(() => maybeLoadScript(\"vega-embed\", \"6\"))\n",
       "        .catch(showError)\n",
       "        .then(() => displayChart(vegaEmbed));\n",
       "    }\n",
       "  })({\"config\": {\"view\": {\"continuousWidth\": 300, \"continuousHeight\": 300}}, \"data\": {\"name\": \"data-87b9c5b30d0de958dcf185a8ee669084\"}, \"mark\": {\"type\": \"bar\"}, \"encoding\": {\"x\": {\"bin\": true, \"field\": \"Age\", \"type\": \"quantitative\"}, \"y\": {\"aggregate\": \"count\", \"type\": \"quantitative\"}}, \"$schema\": \"https://vega.github.io/schema/vega-lite/v5.20.1.json\", \"datasets\": {\"data-87b9c5b30d0de958dcf185a8ee669084\": [{\"Submission id\": \"66bd3f430b8c9c6ad47ce3b9\", \"Participant id\": \"6684445f6894372c54825fd4\", \"Status\": \"APPROVED\", \"Custom study tncs accepted at\": \"Not Applicable\", \"Started at\": \"2024-08-14T23:35:35.751000Z\", \"Completed at\": \"2024-08-15T00:08:09.123000Z\", \"Reviewed at\": \"2024-08-19T20:00:40.860000Z\", \"Archived at\": \"2024-08-15T00:08:16.164152Z\", \"Time taken\": 1954.0, \"Completion code\": \"CVRK3FRJ\", \"Total approvals\": 6, \"Age\": 26, \"Sex\": \"Female\", \"Ethnicity simplified\": \"White\", \"Country of birth\": \"United States\", \"Country of residence\": \"United States\", \"Nationality\": \"United States\", \"Language\": \"English\", \"Student status\": \"No\", \"Employment status\": \"DATA_EXPIRED\"}, {\"Submission id\": \"66bd4112a62057a238a10462\", \"Participant id\": \"5dd71896670d1a6af9f20eee\", \"Status\": \"APPROVED\", \"Custom study tncs accepted at\": \"Not Applicable\", \"Started at\": \"2024-08-14T23:43:21.418000Z\", \"Completed at\": \"2024-08-15T00:06:09.665000Z\", \"Reviewed at\": \"2024-08-19T20:00:44.911000Z\", \"Archived at\": \"2024-08-15T00:06:43.033847Z\", \"Time taken\": 1369.0, \"Completion code\": \"CVRK3FRJ\", \"Total approvals\": 816, \"Age\": 33, \"Sex\": \"Male\", \"Ethnicity simplified\": \"White\", \"Country of birth\": \"United States\", \"Country of residence\": \"United States\", \"Nationality\": \"United States\", \"Language\": \"English\", \"Student status\": \"No\", \"Employment status\": \"Full-Time\"}, {\"Submission id\": \"66bd432cfdd38158953c6d93\", \"Participant id\": \"66a51057a123a32824a9a9e0\", \"Status\": \"APPROVED\", \"Custom study tncs accepted at\": \"Not Applicable\", \"Started at\": \"2024-08-14T23:52:17.446000Z\", \"Completed at\": \"2024-08-15T00:25:43.434000Z\", \"Reviewed at\": \"2024-08-19T20:00:45.946000Z\", \"Archived at\": \"2024-08-15T00:27:20.485414Z\", \"Time taken\": 2006.0, \"Completion code\": \"CVRK3FRJ\", \"Total approvals\": 12, \"Age\": 25, \"Sex\": \"Male\", \"Ethnicity simplified\": \"Black\", \"Country of birth\": \"Nigeria\", \"Country of residence\": \"Canada\", \"Nationality\": \"Nigeria\", \"Language\": \"English\", \"Student status\": \"Yes\", \"Employment status\": \"Part-Time\"}, {\"Submission id\": \"66bd437e96c87462c0276c52\", \"Participant id\": \"66bce91186a8da8151c30f61\", \"Status\": \"APPROVED\", \"Custom study tncs accepted at\": \"Not Applicable\", \"Started at\": \"2024-08-14T23:53:40.399000Z\", \"Completed at\": \"2024-08-15T01:03:25.502000Z\", \"Reviewed at\": \"2024-08-19T20:00:47.932000Z\", \"Archived at\": \"2024-08-15T01:03:27.423615Z\", \"Time taken\": 4186.0, \"Completion code\": \"CVRK3FRJ\", \"Total approvals\": 0, \"Age\": 24, \"Sex\": \"Male\", \"Ethnicity simplified\": \"DATA_EXPIRED\", \"Country of birth\": \"Kenya\", \"Country of residence\": \"Canada\", \"Nationality\": \"Kenya\", \"Language\": \"English\", \"Student status\": \"DATA_EXPIRED\", \"Employment status\": \"Full-Time\"}, {\"Submission id\": \"66c65ce4e696fd50be059f84\", \"Participant id\": \"66c535b047ab0893183e06d8\", \"Status\": \"APPROVED\", \"Custom study tncs accepted at\": \"Not Applicable\", \"Started at\": \"2024-08-21T21:32:47.759000Z\", \"Completed at\": \"2024-08-21T22:32:17.631000Z\", \"Reviewed at\": \"2024-08-26T01:46:30.305000Z\", \"Archived at\": \"2024-08-21T22:32:18.857006Z\", \"Time taken\": 3570.0, \"Completion code\": \"CVRK3FRJ\", \"Total approvals\": 6, \"Age\": 38, \"Sex\": \"Male\", \"Ethnicity simplified\": \"Black\", \"Country of birth\": \"Nigeria\", \"Country of residence\": \"Canada\", \"Nationality\": \"Nigeria\", \"Language\": \"English\", \"Student status\": \"No\", \"Employment status\": \"Full-Time\"}, {\"Submission id\": \"66c65cec1bd710a756afcdc0\", \"Participant id\": \"666c6ddc652f38b0355bc344\", \"Status\": \"APPROVED\", \"Custom study tncs accepted at\": \"Not Applicable\", \"Started at\": \"2024-08-21T21:32:36.865000Z\", \"Completed at\": \"2024-08-21T21:45:46.298000Z\", \"Reviewed at\": \"2024-08-26T01:46:27.826000Z\", \"Archived at\": \"2024-08-21T21:47:32.806719Z\", \"Time taken\": 790.0, \"Completion code\": \"CVRK3FRJ\", \"Total approvals\": 37, \"Age\": 26, \"Sex\": \"Female\", \"Ethnicity simplified\": \"White\", \"Country of birth\": \"Canada\", \"Country of residence\": \"Canada\", \"Nationality\": \"Canada\", \"Language\": \"English\", \"Student status\": \"No\", \"Employment status\": \"Not in paid work (e.g. homemaker', 'retired or disabled)\"}, {\"Submission id\": \"66c65cf2347a55540ff275b7\", \"Participant id\": \"5ba855d47c0ebe0001272f70\", \"Status\": \"APPROVED\", \"Custom study tncs accepted at\": \"Not Applicable\", \"Started at\": \"2024-08-21T21:34:52.465000Z\", \"Completed at\": \"2024-08-21T22:00:39.717000Z\", \"Reviewed at\": \"2024-08-26T01:49:02.345000Z\", \"Archived at\": \"2024-08-21T22:02:29.011159Z\", \"Time taken\": 1548.0, \"Completion code\": \"CVRK3FRJ\", \"Total approvals\": 2027, \"Age\": 30, \"Sex\": \"Male\", \"Ethnicity simplified\": \"White\", \"Country of birth\": \"Albania\", \"Country of residence\": \"United States\", \"Nationality\": \"United States\", \"Language\": \"Albanian\", \"Student status\": \"DATA_EXPIRED\", \"Employment status\": \"DATA_EXPIRED\"}, {\"Submission id\": \"66c65cf772d43c4e2551c64a\", \"Participant id\": \"628254ec789e78a3dcd22d99\", \"Status\": \"APPROVED\", \"Custom study tncs accepted at\": \"Not Applicable\", \"Started at\": \"2024-08-21T21:32:50.455000Z\", \"Completed at\": \"2024-08-21T21:53:07.132000Z\", \"Reviewed at\": \"2024-08-26T01:47:03.748000Z\", \"Archived at\": \"2024-08-21T21:53:07.834686Z\", \"Time taken\": 1217.0, \"Completion code\": \"CVRK3FRJ\", \"Total approvals\": 105, \"Age\": 30, \"Sex\": \"Female\", \"Ethnicity simplified\": \"White\", \"Country of birth\": \"United States\", \"Country of residence\": \"Canada\", \"Nationality\": \"Canada\", \"Language\": \"English\", \"Student status\": \"No\", \"Employment status\": \"Full-Time\"}, {\"Submission id\": \"66c65cf84a4a7f7922a4dbd4\", \"Participant id\": \"611116ac01f43eeeb3cdeff3\", \"Status\": \"APPROVED\", \"Custom study tncs accepted at\": \"Not Applicable\", \"Started at\": \"2024-08-21T21:32:45.733000Z\", \"Completed at\": \"2024-08-21T21:46:27.191000Z\", \"Reviewed at\": \"2024-08-26T01:47:01.931000Z\", \"Archived at\": \"2024-08-21T21:47:50.282923Z\", \"Time taken\": 822.0, \"Completion code\": \"CVRK3FRJ\", \"Total approvals\": 380, \"Age\": 34, \"Sex\": \"Female\", \"Ethnicity simplified\": \"White\", \"Country of birth\": \"Canada\", \"Country of residence\": \"Canada\", \"Nationality\": \"Canada\", \"Language\": \"English\", \"Student status\": \"No\", \"Employment status\": \"Full-Time\"}, {\"Submission id\": \"66c65cfeb9f1d38965377294\", \"Participant id\": \"66c5d1accc092f147f94b363\", \"Status\": \"APPROVED\", \"Custom study tncs accepted at\": \"Not Applicable\", \"Started at\": \"2024-08-21T21:32:52.456000Z\", \"Completed at\": \"2024-08-21T21:52:15.439000Z\", \"Reviewed at\": \"2024-08-26T01:46:32.643000Z\", \"Archived at\": \"2024-08-21T21:52:16.108655Z\", \"Time taken\": 1163.0, \"Completion code\": \"CVRK3FRJ\", \"Total approvals\": 2, \"Age\": 20, \"Sex\": \"Male\", \"Ethnicity simplified\": \"Asian\", \"Country of birth\": \"United Kingdom\", \"Country of residence\": \"United Kingdom\", \"Nationality\": \"United Kingdom\", \"Language\": \"English\", \"Student status\": \"Yes\", \"Employment status\": \"DATA_EXPIRED\"}, {\"Submission id\": \"66c65d043afa83a1ba51727f\", \"Participant id\": \"62bb4c95ca36f792585cb4b5\", \"Status\": \"APPROVED\", \"Custom study tncs accepted at\": \"Not Applicable\", \"Started at\": \"2024-08-21T21:32:57.758000Z\", \"Completed at\": \"2024-08-21T21:46:11.889000Z\", \"Reviewed at\": \"2024-08-26T01:46:34.574000Z\", \"Archived at\": \"2024-08-21T21:47:46.757648Z\", \"Time taken\": 795.0, \"Completion code\": \"CVRK3FRJ\", \"Total approvals\": 67, \"Age\": 22, \"Sex\": \"Female\", \"Ethnicity simplified\": \"White\", \"Country of birth\": \"United States\", \"Country of residence\": \"United States\", \"Nationality\": \"United States\", \"Language\": \"English\", \"Student status\": \"No\", \"Employment status\": \"Not in paid work (e.g. homemaker', 'retired or disabled)\"}, {\"Submission id\": \"66c65d0bd79879039ff3473e\", \"Participant id\": \"652d36620eca7decc5bd4466\", \"Status\": \"APPROVED\", \"Custom study tncs accepted at\": \"Not Applicable\", \"Started at\": \"2024-08-21T21:33:05.894000Z\", \"Completed at\": \"2024-08-21T22:00:52.866000Z\", \"Reviewed at\": \"2024-08-26T01:47:07.310000Z\", \"Archived at\": \"2024-08-21T22:02:29.875402Z\", \"Time taken\": 1667.0, \"Completion code\": \"CVRK3FRJ\", \"Total approvals\": 98, \"Age\": 23, \"Sex\": \"Female\", \"Ethnicity simplified\": \"Black\", \"Country of birth\": \"Canada\", \"Country of residence\": \"Canada\", \"Nationality\": \"Canada\", \"Language\": \"English\", \"Student status\": \"Yes\", \"Employment status\": \"Full-Time\"}, {\"Submission id\": \"66c65d108868bc628d417bf8\", \"Participant id\": \"6672eb5ae4c4aa0c62b18d46\", \"Status\": \"APPROVED\", \"Custom study tncs accepted at\": \"Not Applicable\", \"Started at\": \"2024-08-21T21:33:23.957000Z\", \"Completed at\": \"2024-08-21T22:28:33.871000Z\", \"Reviewed at\": \"2024-08-26T01:46:38.264000Z\", \"Archived at\": \"2024-08-21T22:28:34.488704Z\", \"Time taken\": 3310.0, \"Completion code\": \"CVRK3FRJ\", \"Total approvals\": 67, \"Age\": 39, \"Sex\": \"Female\", \"Ethnicity simplified\": \"Other\", \"Country of birth\": \"Egypt\", \"Country of residence\": \"United Kingdom\", \"Nationality\": \"Egypt\", \"Language\": \"Arabic\", \"Student status\": \"No\", \"Employment status\": \"Other\"}, {\"Submission id\": \"66c65d12bab059f2c5ed6cec\", \"Participant id\": \"60fcd02deba2c8e1ed1f0723\", \"Status\": \"APPROVED\", \"Custom study tncs accepted at\": \"Not Applicable\", \"Started at\": \"2024-08-21T21:33:10.210000Z\", \"Completed at\": \"2024-08-21T21:58:19.690000Z\", \"Reviewed at\": \"2024-08-26T01:46:35.636000Z\", \"Archived at\": \"2024-08-21T21:58:20.681338Z\", \"Time taken\": 1510.0, \"Completion code\": \"CVRK3FRJ\", \"Total approvals\": 58, \"Age\": 22, \"Sex\": \"Female\", \"Ethnicity simplified\": \"White\", \"Country of birth\": \"United States\", \"Country of residence\": \"United States\", \"Nationality\": \"United States\", \"Language\": \"English\", \"Student status\": \"No\", \"Employment status\": \"Part-Time\"}, {\"Submission id\": \"66c65d1479e3346ddf0aa1ca\", \"Participant id\": \"6681577c9263349cc005ad9b\", \"Status\": \"APPROVED\", \"Custom study tncs accepted at\": \"Not Applicable\", \"Started at\": \"2024-08-21T21:33:14.174000Z\", \"Completed at\": \"2024-08-21T22:14:51.340000Z\", \"Reviewed at\": \"2024-08-26T01:47:46.684000Z\", \"Archived at\": \"2024-08-21T22:16:08.273434Z\", \"Time taken\": 2498.0, \"Completion code\": \"CVRK3FRJ\", \"Total approvals\": 9, \"Age\": 22, \"Sex\": \"Male\", \"Ethnicity simplified\": \"Other\", \"Country of birth\": \"Cameroon\", \"Country of residence\": \"Canada\", \"Nationality\": \"Cameroon\", \"Language\": \"French\", \"Student status\": \"Yes\", \"Employment status\": \"DATA_EXPIRED\"}, {\"Submission id\": \"66c65d15a69225b2902c090b\", \"Participant id\": \"669eb09f44fd00f288eb8eb6\", \"Status\": \"APPROVED\", \"Custom study tncs accepted at\": \"Not Applicable\", \"Started at\": \"2024-08-21T21:33:16.420000Z\", \"Completed at\": \"2024-08-21T21:47:23.712000Z\", \"Reviewed at\": \"2024-08-26T01:47:06.454000Z\", \"Archived at\": \"2024-08-21T21:48:07.900811Z\", \"Time taken\": 848.0, \"Completion code\": \"CVRK3FRJ\", \"Total approvals\": 5, \"Age\": 36, \"Sex\": \"Female\", \"Ethnicity simplified\": \"White\", \"Country of birth\": \"Canada\", \"Country of residence\": \"Canada\", \"Nationality\": \"Canada\", \"Language\": \"English\", \"Student status\": \"No\", \"Employment status\": \"Full-Time\"}, {\"Submission id\": \"66c65d19aee82ab64c7bcd22\", \"Participant id\": \"597fe89a1b41a20001749f57\", \"Status\": \"APPROVED\", \"Custom study tncs accepted at\": \"Not Applicable\", \"Started at\": \"2024-08-21T21:33:21.192000Z\", \"Completed at\": \"2024-08-21T21:55:18.297000Z\", \"Reviewed at\": \"2024-08-26T01:47:09.806000Z\", \"Archived at\": \"2024-08-21T21:55:19.076086Z\", \"Time taken\": 1318.0, \"Completion code\": \"CVRK3FRJ\", \"Total approvals\": 9295, \"Age\": 46, \"Sex\": \"Female\", \"Ethnicity simplified\": \"White\", \"Country of birth\": \"United States\", \"Country of residence\": \"United States\", \"Nationality\": \"United States\", \"Language\": \"English\", \"Student status\": \"No\", \"Employment status\": \"DATA_EXPIRED\"}, {\"Submission id\": \"66c65d1a5a32eeec9f05a24d\", \"Participant id\": \"63ea445c759d5bf0e3f63739\", \"Status\": \"APPROVED\", \"Custom study tncs accepted at\": \"Not Applicable\", \"Started at\": \"2024-08-21T21:33:14.124000Z\", \"Completed at\": \"2024-08-21T22:08:39.632000Z\", \"Reviewed at\": \"2024-08-26T01:46:36.630000Z\", \"Archived at\": \"2024-08-21T22:08:40.532315Z\", \"Time taken\": 2126.0, \"Completion code\": \"CVRK3FRJ\", \"Total approvals\": 233, \"Age\": 22, \"Sex\": \"Male\", \"Ethnicity simplified\": \"Black\", \"Country of birth\": \"Kenya\", \"Country of residence\": \"United Kingdom\", \"Nationality\": \"United Kingdom\", \"Language\": \"English\", \"Student status\": \"Yes\", \"Employment status\": \"DATA_EXPIRED\"}, {\"Submission id\": \"66c65d1d92458c8dcde61003\", \"Participant id\": \"6678757b671f246b4c1b4f6c\", \"Status\": \"APPROVED\", \"Custom study tncs accepted at\": \"Not Applicable\", \"Started at\": \"2024-08-21T21:40:50.234000Z\", \"Completed at\": \"2024-08-21T22:12:16.542000Z\", \"Reviewed at\": \"2024-08-26T01:48:58.101000Z\", \"Archived at\": \"2024-08-21T22:12:17.117031Z\", \"Time taken\": 1887.0, \"Completion code\": \"CVRK3FRJ\", \"Total approvals\": 32, \"Age\": 27, \"Sex\": \"Female\", \"Ethnicity simplified\": \"Asian\", \"Country of birth\": \"United States\", \"Country of residence\": \"United States\", \"Nationality\": \"United States\", \"Language\": \"Chinese\", \"Student status\": \"No\", \"Employment status\": \"Part-Time\"}, {\"Submission id\": \"66c65d26368a77231b9e1d17\", \"Participant id\": \"665f9223c7db27a5d32d81ab\", \"Status\": \"APPROVED\", \"Custom study tncs accepted at\": \"Not Applicable\", \"Started at\": \"2024-08-21T21:37:10.787000Z\", \"Completed at\": \"2024-08-21T22:37:40.127000Z\", \"Reviewed at\": \"2024-08-26T01:48:18.081000Z\", \"Archived at\": \"2024-08-21T22:37:40.662883Z\", \"Time taken\": 3630.0, \"Completion code\": \"CVRK3FRJ\", \"Total approvals\": 20, \"Age\": 22, \"Sex\": \"Male\", \"Ethnicity simplified\": \"Black\", \"Country of birth\": \"Nigeria\", \"Country of residence\": \"Canada\", \"Nationality\": \"Canada\", \"Language\": \"English\", \"Student status\": \"No\", \"Employment status\": \"Full-Time\"}, {\"Submission id\": \"66c65d2ef1bc157f83a2cb34\", \"Participant id\": \"5f4fc497a3b4320c8928639e\", \"Status\": \"APPROVED\", \"Custom study tncs accepted at\": \"Not Applicable\", \"Started at\": \"2024-08-21T21:33:38.264000Z\", \"Completed at\": \"2024-08-21T21:53:11.782000Z\", \"Reviewed at\": \"2024-08-26T01:47:48.159000Z\", \"Archived at\": \"2024-08-21T21:53:12.455261Z\", \"Time taken\": 1174.0, \"Completion code\": \"CVRK3FRJ\", \"Total approvals\": 1506, \"Age\": 61, \"Sex\": \"Male\", \"Ethnicity simplified\": \"White\", \"Country of birth\": \"United States\", \"Country of residence\": \"United States\", \"Nationality\": \"United States\", \"Language\": \"English\", \"Student status\": \"No\", \"Employment status\": \"Not in paid work (e.g. homemaker', 'retired or disabled)\"}, {\"Submission id\": \"66c65d354e77fff0e931e06a\", \"Participant id\": \"641ecfa9f83175a3d9f63636\", \"Status\": \"APPROVED\", \"Custom study tncs accepted at\": \"Not Applicable\", \"Started at\": \"2024-08-21T21:33:46.484000Z\", \"Completed at\": \"2024-08-21T21:55:27.906000Z\", \"Reviewed at\": \"2024-08-26T01:48:26.871000Z\", \"Archived at\": \"2024-08-21T21:55:28.698650Z\", \"Time taken\": 1302.0, \"Completion code\": \"CVRK3FRJ\", \"Total approvals\": 786, \"Age\": 38, \"Sex\": \"Male\", \"Ethnicity simplified\": \"White\", \"Country of birth\": \"United Kingdom\", \"Country of residence\": \"United Kingdom\", \"Nationality\": \"United Kingdom\", \"Language\": \"English\", \"Student status\": \"No\", \"Employment status\": \"Full-Time\"}, {\"Submission id\": \"66c65d3beff72f247d87f7e5\", \"Participant id\": \"5955a3eb98c9c400019f5c5f\", \"Status\": \"APPROVED\", \"Custom study tncs accepted at\": \"Not Applicable\", \"Started at\": \"2024-08-21T21:33:57.588000Z\", \"Completed at\": \"2024-08-21T22:04:01.485000Z\", \"Reviewed at\": \"2024-08-26T01:47:49.067000Z\", \"Archived at\": \"2024-08-21T22:04:21.754435Z\", \"Time taken\": 1804.0, \"Completion code\": \"CVRK3FRJ\", \"Total approvals\": 2790, \"Age\": 26, \"Sex\": \"Female\", \"Ethnicity simplified\": \"Black\", \"Country of birth\": \"United States\", \"Country of residence\": \"United States\", \"Nationality\": \"United States\", \"Language\": \"English\", \"Student status\": \"DATA_EXPIRED\", \"Employment status\": \"DATA_EXPIRED\"}, {\"Submission id\": \"66c65d3fbbf3b99bb89cc931\", \"Participant id\": \"653ad51a96ba72b4243e5c07\", \"Status\": \"APPROVED\", \"Custom study tncs accepted at\": \"Not Applicable\", \"Started at\": \"2024-08-21T21:33:51.519000Z\", \"Completed at\": \"2024-08-21T22:01:37.417000Z\", \"Reviewed at\": \"2024-08-26T01:49:03.150000Z\", \"Archived at\": \"2024-08-21T22:03:59.060688Z\", \"Time taken\": 1666.0, \"Completion code\": \"CVRK3FRJ\", \"Total approvals\": 289, \"Age\": 22, \"Sex\": \"Male\", \"Ethnicity simplified\": \"Other\", \"Country of birth\": \"United Arab Emirates\", \"Country of residence\": \"Canada\", \"Nationality\": \"Canada\", \"Language\": \"English\", \"Student status\": \"Yes\", \"Employment status\": \"DATA_EXPIRED\"}, {\"Submission id\": \"66c65d4ad938d656c768627f\", \"Participant id\": \"667ae30569196599fa6b0ba9\", \"Status\": \"APPROVED\", \"Custom study tncs accepted at\": \"Not Applicable\", \"Started at\": \"2024-08-21T21:34:10.662000Z\", \"Completed at\": \"2024-08-21T21:57:48.838000Z\", \"Reviewed at\": \"2024-08-26T01:48:30.542000Z\", \"Archived at\": \"2024-08-21T21:57:49.525544Z\", \"Time taken\": 1419.0, \"Completion code\": \"CVRK3FRJ\", \"Total approvals\": 43, \"Age\": 19, \"Sex\": \"Male\", \"Ethnicity simplified\": \"White\", \"Country of birth\": \"Canada\", \"Country of residence\": \"Canada\", \"Nationality\": \"Canada\", \"Language\": \"English\", \"Student status\": \"Yes\", \"Employment status\": \"Unemployed (and job seeking)\"}, {\"Submission id\": \"66c65d7dbbf3b99bb89cc941\", \"Participant id\": \"66becf77a87578f124f8a036\", \"Status\": \"APPROVED\", \"Custom study tncs accepted at\": \"Not Applicable\", \"Started at\": \"2024-08-21T21:35:02.026000Z\", \"Completed at\": \"2024-08-21T22:06:45.419000Z\", \"Reviewed at\": \"2024-08-26T01:48:17.090000Z\", \"Archived at\": \"2024-08-21T22:06:46.103235Z\", \"Time taken\": 1904.0, \"Completion code\": \"CVRK3FRJ\", \"Total approvals\": 1, \"Age\": 30, \"Sex\": \"Male\", \"Ethnicity simplified\": \"White\", \"Country of birth\": \"Turkey\", \"Country of residence\": \"United Kingdom\", \"Nationality\": \"Turkey\", \"Language\": \"Turkish\", \"Student status\": \"Yes\", \"Employment status\": \"Full-Time\"}, {\"Submission id\": \"66c65dcf4925aeda64f35b91\", \"Participant id\": \"669588e8ad1745596a02a04b\", \"Status\": \"APPROVED\", \"Custom study tncs accepted at\": \"Not Applicable\", \"Started at\": \"2024-08-21T21:36:20.528000Z\", \"Completed at\": \"2024-08-21T21:49:37.439000Z\", \"Reviewed at\": \"2024-08-26T01:49:01.166000Z\", \"Archived at\": \"2024-08-21T21:51:02.724543Z\", \"Time taken\": 797.0, \"Completion code\": \"CVRK3FRJ\", \"Total approvals\": 165, \"Age\": 22, \"Sex\": \"Male\", \"Ethnicity simplified\": \"White\", \"Country of birth\": \"United States\", \"Country of residence\": \"United States\", \"Nationality\": \"United States\", \"Language\": \"English\", \"Student status\": \"No\", \"Employment status\": \"Unemployed (and job seeking)\"}, {\"Submission id\": \"66c65e5b7a95a3eee2965569\", \"Participant id\": \"6695703cec19c758ec8dbd7c\", \"Status\": \"APPROVED\", \"Custom study tncs accepted at\": \"Not Applicable\", \"Started at\": \"2024-08-21T21:39:02.990000Z\", \"Completed at\": \"2024-08-21T22:20:16.922000Z\", \"Reviewed at\": \"2024-08-26T01:48:18.806000Z\", \"Archived at\": \"2024-08-21T22:20:17.624393Z\", \"Time taken\": 2474.0, \"Completion code\": \"CVRK3FRJ\", \"Total approvals\": 1, \"Age\": 23, \"Sex\": \"Male\", \"Ethnicity simplified\": \"Black\", \"Country of birth\": \"Canada\", \"Country of residence\": \"Canada\", \"Nationality\": \"Canada\", \"Language\": \"English\", \"Student status\": \"No\", \"Employment status\": \"Part-Time\"}, {\"Submission id\": \"66c65e9c60a614bc03d42b2f\", \"Participant id\": \"5e02e5144acfb9e385bb4c5a\", \"Status\": \"APPROVED\", \"Custom study tncs accepted at\": \"Not Applicable\", \"Started at\": \"2024-08-21T21:39:52.579000Z\", \"Completed at\": \"2024-08-21T22:04:49.535000Z\", \"Reviewed at\": \"2024-08-26T01:48:44.604000Z\", \"Archived at\": \"2024-08-21T22:04:50.368750Z\", \"Time taken\": 1497.0, \"Completion code\": \"CVRK3FRJ\", \"Total approvals\": 26, \"Age\": 33, \"Sex\": \"Male\", \"Ethnicity simplified\": \"White\", \"Country of birth\": \"United States\", \"Country of residence\": \"United States\", \"Nationality\": \"United States\", \"Language\": \"English\", \"Student status\": \"No\", \"Employment status\": \"DATA_EXPIRED\"}, {\"Submission id\": \"66c65ea101aa0ec049929b27\", \"Participant id\": \"6668c49e07ce221e29f2bc5a\", \"Status\": \"APPROVED\", \"Custom study tncs accepted at\": \"Not Applicable\", \"Started at\": \"2024-08-21T21:40:16.589000Z\", \"Completed at\": \"2024-08-21T22:03:11.349000Z\", \"Reviewed at\": \"2024-08-26T01:48:59.744000Z\", \"Archived at\": \"2024-08-21T22:04:12.206145Z\", \"Time taken\": 1375.0, \"Completion code\": \"CVRK3FRJ\", \"Total approvals\": 22, \"Age\": 25, \"Sex\": \"Male\", \"Ethnicity simplified\": \"Asian\", \"Country of birth\": \"Canada\", \"Country of residence\": \"Canada\", \"Nationality\": \"Canada\", \"Language\": \"Chinese\", \"Student status\": \"No\", \"Employment status\": \"Unemployed (and job seeking)\"}, {\"Submission id\": \"66c65ec96636d7178ab162c9\", \"Participant id\": \"66ba5f3894e5b3812210f9bb\", \"Status\": \"APPROVED\", \"Custom study tncs accepted at\": \"Not Applicable\", \"Started at\": \"2024-08-21T21:40:29.679000Z\", \"Completed at\": \"2024-08-21T22:10:25.571000Z\", \"Reviewed at\": \"2024-08-26T01:48:34.096000Z\", \"Archived at\": \"2024-08-21T22:10:26.250796Z\", \"Time taken\": 1796.0, \"Completion code\": \"CVRK3FRJ\", \"Total approvals\": 30, \"Age\": 28, \"Sex\": \"Male\", \"Ethnicity simplified\": \"White\", \"Country of birth\": \"Latvia\", \"Country of residence\": \"United Kingdom\", \"Nationality\": \"Latvia\", \"Language\": \"Russian\", \"Student status\": \"No\", \"Employment status\": \"Full-Time\"}, {\"Submission id\": \"66c65ed9b45178892c0bf598\", \"Participant id\": \"6658cf093c3b7a255aeae9eb\", \"Status\": \"APPROVED\", \"Custom study tncs accepted at\": \"Not Applicable\", \"Started at\": \"2024-08-21T21:42:48.233000Z\", \"Completed at\": \"2024-08-21T22:11:48.807000Z\", \"Reviewed at\": \"2024-08-26T01:48:35.953000Z\", \"Archived at\": \"2024-08-21T22:11:50.157111Z\", \"Time taken\": 1741.0, \"Completion code\": \"CVRK3FRJ\", \"Total approvals\": 10, \"Age\": 21, \"Sex\": \"Female\", \"Ethnicity simplified\": \"White\", \"Country of birth\": \"United Kingdom\", \"Country of residence\": \"United Kingdom\", \"Nationality\": \"United Kingdom\", \"Language\": \"English\", \"Student status\": \"No\", \"Employment status\": \"Unemployed (and job seeking)\"}, {\"Submission id\": \"66c65eff96d2c859d90b4708\", \"Participant id\": \"5ed7b0c59a2ae024836e32d5\", \"Status\": \"APPROVED\", \"Custom study tncs accepted at\": \"Not Applicable\", \"Started at\": \"2024-08-21T21:41:44.544000Z\", \"Completed at\": \"2024-08-21T22:27:42.202000Z\", \"Reviewed at\": \"2024-08-26T01:48:12.952000Z\", \"Archived at\": \"2024-08-21T22:27:42.847652Z\", \"Time taken\": 2758.0, \"Completion code\": \"CVRK3FRJ\", \"Total approvals\": 72, \"Age\": 48, \"Sex\": \"Female\", \"Ethnicity simplified\": \"White\", \"Country of birth\": \"Ukraine\", \"Country of residence\": \"Canada\", \"Nationality\": \"Canada\", \"Language\": \"Russian\", \"Student status\": \"DATA_EXPIRED\", \"Employment status\": \"DATA_EXPIRED\"}, {\"Submission id\": \"66c65f18dd59bc4fa4405877\", \"Participant id\": \"668221ef283ed3e39954487f\", \"Status\": \"APPROVED\", \"Custom study tncs accepted at\": \"Not Applicable\", \"Started at\": \"2024-08-21T21:42:18.454000Z\", \"Completed at\": \"2024-08-21T21:57:42.883000Z\", \"Reviewed at\": \"2024-08-26T01:48:57.320000Z\", \"Archived at\": \"2024-08-21T21:57:43.515640Z\", \"Time taken\": 925.0, \"Completion code\": \"CVRK3FRJ\", \"Total approvals\": 46, \"Age\": 37, \"Sex\": \"Female\", \"Ethnicity simplified\": \"Asian\", \"Country of birth\": \"Canada\", \"Country of residence\": \"Canada\", \"Nationality\": \"Canada\", \"Language\": \"English\", \"Student status\": \"No\", \"Employment status\": \"Full-Time\"}, {\"Submission id\": \"66c65f2be57b58b16a993c22\", \"Participant id\": \"6664661dece3c191d9dd5ab2\", \"Status\": \"APPROVED\", \"Custom study tncs accepted at\": \"Not Applicable\", \"Started at\": \"2024-08-21T21:42:13.729000Z\", \"Completed at\": \"2024-08-21T22:06:12.583000Z\", \"Reviewed at\": \"2024-08-26T01:48:32.901000Z\", \"Archived at\": \"2024-08-21T22:06:14.423173Z\", \"Time taken\": 1439.0, \"Completion code\": \"CVRK3FRJ\", \"Total approvals\": 145, \"Age\": 41, \"Sex\": \"Female\", \"Ethnicity simplified\": \"Asian\", \"Country of birth\": \"United Kingdom\", \"Country of residence\": \"United Kingdom\", \"Nationality\": \"United Kingdom\", \"Language\": \"English\", \"Student status\": \"No\", \"Employment status\": \"Part-Time\"}, {\"Submission id\": \"66c65f3b1735b98e6e52c3d8\", \"Participant id\": \"666cb540cd1f9d9f05c12105\", \"Status\": \"APPROVED\", \"Custom study tncs accepted at\": \"Not Applicable\", \"Started at\": \"2024-08-21T21:42:28.361000Z\", \"Completed at\": \"2024-08-21T22:08:49.194000Z\", \"Reviewed at\": \"2024-08-26T01:47:26.296000Z\", \"Archived at\": \"2024-08-21T22:08:49.940702Z\", \"Time taken\": 1581.0, \"Completion code\": \"CVRK3FRJ\", \"Total approvals\": 35, \"Age\": 22, \"Sex\": \"Male\", \"Ethnicity simplified\": \"Mixed\", \"Country of birth\": \"Canada\", \"Country of residence\": \"Canada\", \"Nationality\": \"Canada\", \"Language\": \"English\", \"Student status\": \"Yes\", \"Employment status\": \"Other\"}, {\"Submission id\": \"66c66018dfdfd51d3e28caf7\", \"Participant id\": \"66ba287d1cd394ac6c21a43c\", \"Status\": \"APPROVED\", \"Custom study tncs accepted at\": \"Not Applicable\", \"Started at\": \"2024-08-21T21:46:05.457000Z\", \"Completed at\": \"2024-08-21T22:00:25.992000Z\", \"Reviewed at\": \"2024-08-26T01:48:08.427000Z\", \"Archived at\": \"2024-08-21T22:02:27.128221Z\", \"Time taken\": 861.0, \"Completion code\": \"CVRK3FRJ\", \"Total approvals\": 11, \"Age\": 28, \"Sex\": \"Female\", \"Ethnicity simplified\": \"Asian\", \"Country of birth\": \"India\", \"Country of residence\": \"Canada\", \"Nationality\": \"India\", \"Language\": \"Telugu\", \"Student status\": \"No\", \"Employment status\": \"Full-Time\"}, {\"Submission id\": \"66c66024c264ce07a557a50a\", \"Participant id\": \"61080d1c39e080da7841eade\", \"Status\": \"APPROVED\", \"Custom study tncs accepted at\": \"Not Applicable\", \"Started at\": \"2024-08-21T21:46:24.150000Z\", \"Completed at\": \"2024-08-21T22:03:08.083000Z\", \"Reviewed at\": \"2024-08-26T01:47:38.561000Z\", \"Archived at\": \"2024-08-21T22:04:11.975339Z\", \"Time taken\": 1004.0, \"Completion code\": \"CVRK3FRJ\", \"Total approvals\": 1409, \"Age\": 22, \"Sex\": \"Female\", \"Ethnicity simplified\": \"White\", \"Country of birth\": \"United States\", \"Country of residence\": \"United States\", \"Nationality\": \"United States\", \"Language\": \"English\", \"Student status\": \"Yes\", \"Employment status\": \"Other\"}, {\"Submission id\": \"66c660359a0e66a5b0c174ea\", \"Participant id\": \"650b604dbf69c1cada1ba416\", \"Status\": \"APPROVED\", \"Custom study tncs accepted at\": \"Not Applicable\", \"Started at\": \"2024-08-21T21:46:33.582000Z\", \"Completed at\": \"2024-08-21T22:14:05.787000Z\", \"Reviewed at\": \"2024-08-26T01:47:37.935000Z\", \"Archived at\": \"2024-08-21T22:16:01.801295Z\", \"Time taken\": 1653.0, \"Completion code\": \"CVRK3FRJ\", \"Total approvals\": 281, \"Age\": 19, \"Sex\": \"Male\", \"Ethnicity simplified\": \"Mixed\", \"Country of birth\": \"Canada\", \"Country of residence\": \"Canada\", \"Nationality\": \"Canada\", \"Language\": \"English\", \"Student status\": \"Yes\", \"Employment status\": \"Unemployed (and job seeking)\"}, {\"Submission id\": \"66c6608244903af73b1a8ffe\", \"Participant id\": \"5c6c260dce4e560001f75731\", \"Status\": \"APPROVED\", \"Custom study tncs accepted at\": \"Not Applicable\", \"Started at\": \"2024-08-21T21:47:51.441000Z\", \"Completed at\": \"2024-08-21T22:49:18.438000Z\", \"Reviewed at\": \"2024-08-26T01:48:04.227000Z\", \"Archived at\": \"2024-08-21T22:49:19.064129Z\", \"Time taken\": 3687.0, \"Completion code\": \"CVRK3FRJ\", \"Total approvals\": 2212, \"Age\": 43, \"Sex\": \"Male\", \"Ethnicity simplified\": \"White\", \"Country of birth\": \"Russian Federation\", \"Country of residence\": \"United Kingdom\", \"Nationality\": \"United Kingdom\", \"Language\": \"Russian\", \"Student status\": \"No\", \"Employment status\": \"Full-Time\"}, {\"Submission id\": \"66c662044302a18377b3f41b\", \"Participant id\": \"5aebc4ac75deca00016252ea\", \"Status\": \"APPROVED\", \"Custom study tncs accepted at\": \"Not Applicable\", \"Started at\": \"2024-08-21T21:54:27.229000Z\", \"Completed at\": \"2024-08-21T23:17:44.825000Z\", \"Reviewed at\": \"2024-08-26T01:47:24.407000Z\", \"Archived at\": \"2024-08-21T23:17:49.768448Z\", \"Time taken\": 4998.0, \"Completion code\": \"CVRK3FRJ\", \"Total approvals\": 67, \"Age\": 52, \"Sex\": \"Female\", \"Ethnicity simplified\": \"Asian\", \"Country of birth\": \"Sri Lanka\", \"Country of residence\": \"Canada\", \"Nationality\": \"Sri Lanka\", \"Language\": \"Tamil\", \"Student status\": \"No\", \"Employment status\": \"Unemployed (and job seeking)\"}, {\"Submission id\": \"66c666b8a18c08c51bcb3815\", \"Participant id\": \"574dc90512d86b000f833ab0\", \"Status\": \"APPROVED\", \"Custom study tncs accepted at\": \"Not Applicable\", \"Started at\": \"2024-08-21T22:17:07.576000Z\", \"Completed at\": \"2024-08-21T23:13:59.400000Z\", \"Reviewed at\": \"2024-08-26T01:47:19.692000Z\", \"Archived at\": \"2024-08-21T23:14:57.282209Z\", \"Time taken\": 3412.0, \"Completion code\": \"CVRK3FRJ\", \"Total approvals\": 6206, \"Age\": 38, \"Sex\": \"Male\", \"Ethnicity simplified\": \"White\", \"Country of birth\": \"United States\", \"Country of residence\": \"United States\", \"Nationality\": \"United States\", \"Language\": \"English\", \"Student status\": \"No\", \"Employment status\": \"Full-Time\"}, {\"Submission id\": \"66c6685208aa34de6b01dc08\", \"Participant id\": \"659ea43fea7c0cc45bbe771f\", \"Status\": \"APPROVED\", \"Custom study tncs accepted at\": \"Not Applicable\", \"Started at\": \"2024-08-21T22:21:44.461000Z\", \"Completed at\": \"2024-08-21T22:43:18.495000Z\", \"Reviewed at\": \"2024-08-26T01:47:35.879000Z\", \"Archived at\": \"2024-08-21T22:43:19.228429Z\", \"Time taken\": 1295.0, \"Completion code\": \"CVRK3FRJ\", \"Total approvals\": 475, \"Age\": 38, \"Sex\": \"Male\", \"Ethnicity simplified\": \"Asian\", \"Country of birth\": \"United Kingdom\", \"Country of residence\": \"United Kingdom\", \"Nationality\": \"United Kingdom\", \"Language\": \"English\", \"Student status\": \"No\", \"Employment status\": \"Full-Time\"}, {\"Submission id\": \"66c6761f4e77fff0e931e406\", \"Participant id\": \"5ece9e3b3a19db0cf5af6692\", \"Status\": \"APPROVED\", \"Custom study tncs accepted at\": \"Not Applicable\", \"Started at\": \"2024-08-21T23:20:21.106000Z\", \"Completed at\": \"2024-08-21T23:46:55.092000Z\", \"Reviewed at\": \"2024-08-26T01:47:21.081000Z\", \"Archived at\": \"2024-08-21T23:48:34.821057Z\", \"Time taken\": 1594.0, \"Completion code\": \"CVRK3FRJ\", \"Total approvals\": 814, \"Age\": 42, \"Sex\": \"Male\", \"Ethnicity simplified\": \"White\", \"Country of birth\": \"United Kingdom\", \"Country of residence\": \"United Kingdom\", \"Nationality\": \"United Kingdom\", \"Language\": \"English\", \"Student status\": \"No\", \"Employment status\": \"Full-Time\"}, {\"Submission id\": \"66c6147a9a214b469f647bc4\", \"Participant id\": \"66c5f3b24507c79830b451a7\", \"Status\": \"APPROVED\", \"Custom study tncs accepted at\": \"Not Applicable\", \"Started at\": \"2024-08-21T16:23:33.418000Z\", \"Completed at\": \"2024-08-21T16:39:55.823000Z\", \"Reviewed at\": \"2024-08-21T21:04:38.613000Z\", \"Archived at\": \"2024-08-21T16:39:56.489524Z\", \"Time taken\": 983.0, \"Completion code\": \"CVRK3FRJ\", \"Total approvals\": 1, \"Age\": 38, \"Sex\": \"Male\", \"Ethnicity simplified\": \"White\", \"Country of birth\": \"Canada\", \"Country of residence\": \"Canada\", \"Nationality\": \"Canada\", \"Language\": \"English\", \"Student status\": \"No\", \"Employment status\": \"Full-Time\"}, {\"Submission id\": \"66c61483b697685dae0f803a\", \"Participant id\": \"66c4dee716f98496f9638591\", \"Status\": \"APPROVED\", \"Custom study tncs accepted at\": \"Not Applicable\", \"Started at\": \"2024-08-21T16:23:35.121000Z\", \"Completed at\": \"2024-08-21T16:35:18.586000Z\", \"Reviewed at\": \"2024-08-21T21:04:56.300000Z\", \"Archived at\": \"2024-08-21T16:37:08.823083Z\", \"Time taken\": 704.0, \"Completion code\": \"CVRK3FRJ\", \"Total approvals\": 0, \"Age\": 30, \"Sex\": \"Male\", \"Ethnicity simplified\": \"White\", \"Country of birth\": \"United States\", \"Country of residence\": \"United States\", \"Nationality\": \"United States\", \"Language\": \"English\", \"Student status\": \"No\", \"Employment status\": \"DATA_EXPIRED\"}, {\"Submission id\": \"66c61484256d9451162bfea1\", \"Participant id\": \"665c72ef8e6e166f13aee9f6\", \"Status\": \"APPROVED\", \"Custom study tncs accepted at\": \"Not Applicable\", \"Started at\": \"2024-08-21T16:23:42.098000Z\", \"Completed at\": \"2024-08-21T17:04:11.816000Z\", \"Reviewed at\": \"2024-08-21T21:04:40.312000Z\", \"Archived at\": \"2024-08-21T17:05:18.928098Z\", \"Time taken\": 2430.0, \"Completion code\": \"CVRK3FRJ\", \"Total approvals\": 82, \"Age\": 26, \"Sex\": \"Female\", \"Ethnicity simplified\": \"Black\", \"Country of birth\": \"Nigeria\", \"Country of residence\": \"United Kingdom\", \"Nationality\": \"United Kingdom\", \"Language\": \"English\", \"Student status\": \"Yes\", \"Employment status\": \"DATA_EXPIRED\"}, {\"Submission id\": \"66c614886c595f3c14620658\", \"Participant id\": \"66ade2c28a85033cab570717\", \"Status\": \"APPROVED\", \"Custom study tncs accepted at\": \"Not Applicable\", \"Started at\": \"2024-08-21T16:23:41.082000Z\", \"Completed at\": \"2024-08-21T16:40:46.197000Z\", \"Reviewed at\": \"2024-08-21T21:04:57.200000Z\", \"Archived at\": \"2024-08-21T16:40:46.794801Z\", \"Time taken\": 1026.0, \"Completion code\": \"CVRK3FRJ\", \"Total approvals\": 6, \"Age\": 28, \"Sex\": \"Male\", \"Ethnicity simplified\": \"White\", \"Country of birth\": \"United Kingdom\", \"Country of residence\": \"United Kingdom\", \"Nationality\": \"United Kingdom\", \"Language\": \"English\", \"Student status\": \"No\", \"Employment status\": \"Full-Time\"}, {\"Submission id\": \"66c6148b12cdc56912254e0b\", \"Participant id\": \"663e5c83c1599fe4e23d98ae\", \"Status\": \"APPROVED\", \"Custom study tncs accepted at\": \"Not Applicable\", \"Started at\": \"2024-08-21T16:23:45.443000Z\", \"Completed at\": \"2024-08-21T16:48:14.218000Z\", \"Reviewed at\": \"2024-08-21T21:04:42.793000Z\", \"Archived at\": \"2024-08-21T16:48:14.965005Z\", \"Time taken\": 1469.0, \"Completion code\": \"CVRK3FRJ\", \"Total approvals\": 62, \"Age\": 20, \"Sex\": \"Male\", \"Ethnicity simplified\": \"Asian\", \"Country of birth\": \"United States\", \"Country of residence\": \"United States\", \"Nationality\": \"United States\", \"Language\": \"English\", \"Student status\": \"Yes\", \"Employment status\": \"Unemployed (and job seeking)\"}, {\"Submission id\": \"66c6154292a1230068659389\", \"Participant id\": \"65da51b212ad91d9df1913fd\", \"Status\": \"APPROVED\", \"Custom study tncs accepted at\": \"Not Applicable\", \"Started at\": \"2024-08-21T16:26:49.903000Z\", \"Completed at\": \"2024-08-21T16:38:53.068000Z\", \"Reviewed at\": \"2024-08-21T21:05:13.142000Z\", \"Archived at\": \"2024-08-21T16:38:53.824052Z\", \"Time taken\": 724.0, \"Completion code\": \"CVRK3FRJ\", \"Total approvals\": 94, \"Age\": 33, \"Sex\": \"Male\", \"Ethnicity simplified\": \"White\", \"Country of birth\": \"United Kingdom\", \"Country of residence\": \"United Kingdom\", \"Nationality\": \"United Kingdom\", \"Language\": \"English\", \"Student status\": \"No\", \"Employment status\": \"Full-Time\"}, {\"Submission id\": \"66c6197372d43c4e2551bc73\", \"Participant id\": \"6684089a4c68d1a42da1cfaa\", \"Status\": \"APPROVED\", \"Custom study tncs accepted at\": \"Not Applicable\", \"Started at\": \"2024-08-21T16:44:45.492000Z\", \"Completed at\": \"2024-08-21T16:57:24.241000Z\", \"Reviewed at\": \"2024-08-21T21:04:41.051000Z\", \"Archived at\": \"2024-08-21T16:57:25.353303Z\", \"Time taken\": 759.0, \"Completion code\": \"CVRK3FRJ\", \"Total approvals\": 107, \"Age\": 18, \"Sex\": \"Male\", \"Ethnicity simplified\": \"White\", \"Country of birth\": \"United Kingdom\", \"Country of residence\": \"United Kingdom\", \"Nationality\": \"United Kingdom\", \"Language\": \"English\", \"Student status\": \"Yes\", \"Employment status\": \"Unemployed (and job seeking)\"}, {\"Submission id\": \"66c62264dc600bd656a2c585\", \"Participant id\": \"66962f162372082a3647f572\", \"Status\": \"APPROVED\", \"Custom study tncs accepted at\": \"Not Applicable\", \"Started at\": \"2024-08-21T17:22:53.683000Z\", \"Completed at\": \"2024-08-21T18:06:19.107000Z\", \"Reviewed at\": \"2024-08-21T21:04:58.765000Z\", \"Archived at\": \"2024-08-21T18:08:52.307958Z\", \"Time taken\": 2606.0, \"Completion code\": \"CVRK3FRJ\", \"Total approvals\": 72, \"Age\": 51, \"Sex\": \"Male\", \"Ethnicity simplified\": \"White\", \"Country of birth\": \"United Kingdom\", \"Country of residence\": \"United Kingdom\", \"Nationality\": \"United Kingdom\", \"Language\": \"English\", \"Student status\": \"No\", \"Employment status\": \"Full-Time\"}, {\"Submission id\": \"66c6498011a7b2a179b6a118\", \"Participant id\": \"66bff58ff2d1a5f273431584\", \"Status\": \"APPROVED\", \"Custom study tncs accepted at\": \"Not Applicable\", \"Started at\": \"2024-08-21T20:09:43.718000Z\", \"Completed at\": \"2024-08-21T20:30:21.195000Z\", \"Reviewed at\": \"2024-08-21T21:05:20.753000Z\", \"Archived at\": \"2024-08-21T20:30:22.067363Z\", \"Time taken\": 1238.0, \"Completion code\": \"CVRK3FRJ\", \"Total approvals\": 1, \"Age\": 23, \"Sex\": \"Male\", \"Ethnicity simplified\": \"Asian\", \"Country of birth\": \"Canada\", \"Country of residence\": \"Canada\", \"Nationality\": \"Canada\", \"Language\": \"English\", \"Student status\": \"No\", \"Employment status\": \"Full-Time\"}, {\"Submission id\": \"66c6498cc94a64f678954e95\", \"Participant id\": \"66c5feea08e0368a0da64d38\", \"Status\": \"APPROVED\", \"Custom study tncs accepted at\": \"Not Applicable\", \"Started at\": \"2024-08-21T20:10:01.626000Z\", \"Completed at\": \"2024-08-21T20:49:28.702000Z\", \"Reviewed at\": \"2024-08-21T21:05:15.722000Z\", \"Archived at\": \"2024-08-21T20:52:08.257692Z\", \"Time taken\": 2368.0, \"Completion code\": \"CVRK3FRJ\", \"Total approvals\": 0, \"Age\": 37, \"Sex\": \"Male\", \"Ethnicity simplified\": \"White\", \"Country of birth\": \"Canada\", \"Country of residence\": \"Canada\", \"Nationality\": \"Canada\", \"Language\": \"French\", \"Student status\": \"No\", \"Employment status\": \"Full-Time\"}, {\"Submission id\": \"66ccfd201d3697129bdc5755\", \"Participant id\": \"66c4d2c2713b223511e4e676\", \"Status\": \"APPROVED\", \"Custom study tncs accepted at\": \"Not Applicable\", \"Started at\": \"2024-08-26T22:09:42.846000Z\", \"Completed at\": \"2024-08-26T22:18:55.091000Z\", \"Reviewed at\": \"2024-08-27T19:40:17.777000Z\", \"Archived at\": \"2024-08-26T22:18:56.013207Z\", \"Time taken\": 553.0, \"Completion code\": \"CVRK3FRJ\", \"Total approvals\": 1, \"Age\": 20, \"Sex\": \"Male\", \"Ethnicity simplified\": \"White\", \"Country of birth\": \"United States\", \"Country of residence\": \"United States\", \"Nationality\": \"United States\", \"Language\": \"English\", \"Student status\": \"No\", \"Employment status\": \"DATA_EXPIRED\"}, {\"Submission id\": \"66ccfedb578fbabcdb098788\", \"Participant id\": \"603d90a1cd5c8ec6df906814\", \"Status\": \"APPROVED\", \"Custom study tncs accepted at\": \"Not Applicable\", \"Started at\": \"2024-08-26T22:17:02.827000Z\", \"Completed at\": \"2024-08-26T22:30:54.531000Z\", \"Reviewed at\": \"2024-08-27T19:40:18.495000Z\", \"Archived at\": \"2024-08-26T22:33:32.171606Z\", \"Time taken\": 832.0, \"Completion code\": \"CVRK3FRJ\", \"Total approvals\": 89, \"Age\": 28, \"Sex\": \"Male\", \"Ethnicity simplified\": \"Asian\", \"Country of birth\": \"United States\", \"Country of residence\": \"United States\", \"Nationality\": \"United States\", \"Language\": \"English\", \"Student status\": \"No\", \"Employment status\": \"Full-Time\"}, {\"Submission id\": \"66cd01588938e92d6b4ff67f\", \"Participant id\": \"666ffa40c99c2f9c3a47e3e4\", \"Status\": \"APPROVED\", \"Custom study tncs accepted at\": \"Not Applicable\", \"Started at\": \"2024-08-26T22:29:16.652000Z\", \"Completed at\": \"2024-08-26T23:47:44.656000Z\", \"Reviewed at\": \"2024-08-27T19:40:26.855000Z\", \"Archived at\": \"2024-08-26T23:48:29.798298Z\", \"Time taken\": 4709.0, \"Completion code\": \"CVRK3FRJ\", \"Total approvals\": 71, \"Age\": 28, \"Sex\": \"Male\", \"Ethnicity simplified\": \"Black\", \"Country of birth\": \"Nigeria\", \"Country of residence\": \"United Kingdom\", \"Nationality\": \"Nigeria\", \"Language\": \"English\", \"Student status\": \"Yes\", \"Employment status\": \"Part-Time\"}, {\"Submission id\": \"66cd0262e2ba22c64ea372d0\", \"Participant id\": \"66b544ce73d3561af98d76e1\", \"Status\": \"APPROVED\", \"Custom study tncs accepted at\": \"Not Applicable\", \"Started at\": \"2024-08-26T22:32:20.786000Z\", \"Completed at\": \"2024-08-26T23:05:04.694000Z\", \"Reviewed at\": \"2024-08-27T19:40:19.835000Z\", \"Archived at\": \"2024-08-26T23:05:05.285852Z\", \"Time taken\": 1964.0, \"Completion code\": \"CVRK3FRJ\", \"Total approvals\": 13, \"Age\": 20, \"Sex\": \"Male\", \"Ethnicity simplified\": \"Asian\", \"Country of birth\": \"Canada\", \"Country of residence\": \"Canada\", \"Nationality\": \"Canada\", \"Language\": \"English\", \"Student status\": \"Yes\", \"Employment status\": \"Unemployed (and job seeking)\"}, {\"Submission id\": \"66cd0793e2ba22c64ea37387\", \"Participant id\": \"6689878009ea0b87ff9b6ddc\", \"Status\": \"APPROVED\", \"Custom study tncs accepted at\": \"Not Applicable\", \"Started at\": \"2024-08-26T22:54:18.538000Z\", \"Completed at\": \"2024-08-26T23:14:31.548000Z\", \"Reviewed at\": \"2024-08-27T19:40:24.001000Z\", \"Archived at\": \"2024-08-26T23:14:32.167068Z\", \"Time taken\": 1214.0, \"Completion code\": \"CVRK3FRJ\", \"Total approvals\": 54, \"Age\": 24, \"Sex\": \"Male\", \"Ethnicity simplified\": \"Asian\", \"Country of birth\": \"Canada\", \"Country of residence\": \"Canada\", \"Nationality\": \"Canada\", \"Language\": \"Cantonese\", \"Student status\": \"No\", \"Employment status\": \"Unemployed (and job seeking)\"}, {\"Submission id\": \"66ce2dea533749dbf15b2ad3\", \"Participant id\": \"6315ffdb9876ded7feefaf07\", \"Status\": \"APPROVED\", \"Custom study tncs accepted at\": \"Not Applicable\", \"Started at\": \"2024-08-27T19:50:48.140000Z\", \"Completed at\": \"2024-08-27T20:12:25.473000Z\", \"Reviewed at\": \"2024-08-28T20:09:00.478000Z\", \"Archived at\": \"2024-08-27T20:12:26.066124Z\", \"Time taken\": 1298.0, \"Completion code\": \"CVRK3FRJ\", \"Total approvals\": 145, \"Age\": 23, \"Sex\": \"Male\", \"Ethnicity simplified\": \"White\", \"Country of birth\": \"United Kingdom\", \"Country of residence\": \"United Kingdom\", \"Nationality\": \"United Kingdom\", \"Language\": \"English\", \"Student status\": \"Yes\", \"Employment status\": \"Part-Time\"}, {\"Submission id\": \"66ce2deca5ad97f9c0a4b191\", \"Participant id\": \"66cdd1ad42828e8da522ddb1\", \"Status\": \"APPROVED\", \"Custom study tncs accepted at\": \"Not Applicable\", \"Started at\": \"2024-08-27T19:50:14.382000Z\", \"Completed at\": \"2024-08-27T20:43:06.123000Z\", \"Reviewed at\": \"2024-08-28T20:08:34.421000Z\", \"Archived at\": \"2024-08-27T20:43:06.652904Z\", \"Time taken\": 3172.0, \"Completion code\": \"CVRK3FRJ\", \"Total approvals\": 7, \"Age\": 29, \"Sex\": \"Male\", \"Ethnicity simplified\": \"Mixed\", \"Country of birth\": \"South Africa\", \"Country of residence\": \"United Kingdom\", \"Nationality\": \"South Africa\", \"Language\": \"English\", \"Student status\": \"No\", \"Employment status\": \"Full-Time\"}, {\"Submission id\": \"66ce2df628e557960b95f750\", \"Participant id\": \"5997043dbbe84800017964a7\", \"Status\": \"APPROVED\", \"Custom study tncs accepted at\": \"Not Applicable\", \"Started at\": \"2024-08-27T19:50:21.306000Z\", \"Completed at\": \"2024-08-27T20:10:25.924000Z\", \"Reviewed at\": \"2024-08-28T20:08:35.669000Z\", \"Archived at\": \"2024-08-27T20:10:28.533768Z\", \"Time taken\": 1205.0, \"Completion code\": \"CVRK3FRJ\", \"Total approvals\": 781, \"Age\": 43, \"Sex\": \"Female\", \"Ethnicity simplified\": \"White\", \"Country of birth\": \"United Kingdom\", \"Country of residence\": \"United Kingdom\", \"Nationality\": \"United Kingdom\", \"Language\": \"English\", \"Student status\": \"No\", \"Employment status\": \"Not in paid work (e.g. homemaker', 'retired or disabled)\"}, {\"Submission id\": \"66ce2e091e40eb9d5e3d090d\", \"Participant id\": \"66a90befd4b58c2cfb86e72a\", \"Status\": \"APPROVED\", \"Custom study tncs accepted at\": \"Not Applicable\", \"Started at\": \"2024-08-27T19:50:39.831000Z\", \"Completed at\": \"2024-08-27T20:31:31.626000Z\", \"Reviewed at\": \"2024-08-28T20:08:52.530000Z\", \"Archived at\": \"2024-08-27T20:31:32.381792Z\", \"Time taken\": 2452.0, \"Completion code\": \"CVRK3FRJ\", \"Total approvals\": 15, \"Age\": 30, \"Sex\": \"Female\", \"Ethnicity simplified\": \"Mixed\", \"Country of birth\": \"Canada\", \"Country of residence\": \"Canada\", \"Nationality\": \"Canada\", \"Language\": \"English\", \"Student status\": \"No\", \"Employment status\": \"Unemployed (and job seeking)\"}, {\"Submission id\": \"66ce2e106865e5ca29bcfd53\", \"Participant id\": \"5dff767f69a117bc2fbd4be8\", \"Status\": \"APPROVED\", \"Custom study tncs accepted at\": \"Not Applicable\", \"Started at\": \"2024-08-27T19:50:40.548000Z\", \"Completed at\": \"2024-08-27T20:36:46.710000Z\", \"Reviewed at\": \"2024-08-28T20:09:17.223000Z\", \"Archived at\": \"2024-08-27T20:38:20.439924Z\", \"Time taken\": 2767.0, \"Completion code\": \"CVRK3FRJ\", \"Total approvals\": 1167, \"Age\": 43, \"Sex\": \"Male\", \"Ethnicity simplified\": \"White\", \"Country of birth\": \"United Kingdom\", \"Country of residence\": \"United Kingdom\", \"Nationality\": \"United Kingdom\", \"Language\": \"English\", \"Student status\": \"No\", \"Employment status\": \"Unemployed (and job seeking)\"}, {\"Submission id\": \"66ce2e11a37d1b0485fb7f0a\", \"Participant id\": \"6008793f0294554adc85c346\", \"Status\": \"APPROVED\", \"Custom study tncs accepted at\": \"Not Applicable\", \"Started at\": \"2024-08-27T19:50:41.584000Z\", \"Completed at\": \"2024-08-27T20:34:08.752000Z\", \"Reviewed at\": \"2024-08-28T20:09:12.434000Z\", \"Archived at\": \"2024-08-27T20:34:09.329527Z\", \"Time taken\": 2608.0, \"Completion code\": \"CVRK3FRJ\", \"Total approvals\": 666, \"Age\": 51, \"Sex\": \"Female\", \"Ethnicity simplified\": \"Asian\", \"Country of birth\": \"Korea\", \"Country of residence\": \"Canada\", \"Nationality\": \"Korea\", \"Language\": \"Korean\", \"Student status\": \"DATA_EXPIRED\", \"Employment status\": \"Part-Time\"}, {\"Submission id\": \"66ce2e127bf93b336985aabc\", \"Participant id\": \"6655a626a0a93488c8fb143b\", \"Status\": \"APPROVED\", \"Custom study tncs accepted at\": \"Not Applicable\", \"Started at\": \"2024-08-27T19:50:55.204000Z\", \"Completed at\": \"2024-08-27T20:04:55.992000Z\", \"Reviewed at\": \"2024-08-28T20:09:28.190000Z\", \"Archived at\": \"2024-08-27T20:04:56.693461Z\", \"Time taken\": 841.0, \"Completion code\": \"CVRK3FRJ\", \"Total approvals\": 129, \"Age\": 21, \"Sex\": \"Female\", \"Ethnicity simplified\": \"White\", \"Country of birth\": \"United Kingdom\", \"Country of residence\": \"United Kingdom\", \"Nationality\": \"United Kingdom\", \"Language\": \"English\", \"Student status\": \"Yes\", \"Employment status\": \"Not in paid work (e.g. homemaker', 'retired or disabled)\"}, {\"Submission id\": \"66ce2f140bebe43c848439de\", \"Participant id\": \"66469f5d40d395a527be84c8\", \"Status\": \"APPROVED\", \"Custom study tncs accepted at\": \"Not Applicable\", \"Started at\": \"2024-08-27T19:55:04.916000Z\", \"Completed at\": \"2024-08-27T20:41:30.158000Z\", \"Reviewed at\": \"2024-08-28T20:09:14.099000Z\", \"Archived at\": \"2024-08-27T20:41:30.731609Z\", \"Time taken\": 2786.0, \"Completion code\": \"CVRK3FRJ\", \"Total approvals\": 75, \"Age\": 40, \"Sex\": \"Male\", \"Ethnicity simplified\": \"Mixed\", \"Country of birth\": \"Fiji\", \"Country of residence\": \"Canada\", \"Nationality\": \"Fiji\", \"Language\": \"English\", \"Student status\": \"No\", \"Employment status\": \"Full-Time\"}, {\"Submission id\": \"66ce2f6afa11b7db795b7b85\", \"Participant id\": \"5e63cacbe43f28152567f42b\", \"Status\": \"APPROVED\", \"Custom study tncs accepted at\": \"Not Applicable\", \"Started at\": \"2024-08-27T19:56:31.401000Z\", \"Completed at\": \"2024-08-27T20:27:45.490000Z\", \"Reviewed at\": \"2024-08-28T20:08:54.471000Z\", \"Archived at\": \"2024-08-27T20:28:13.822625Z\", \"Time taken\": 1875.0, \"Completion code\": \"CVRK3FRJ\", \"Total approvals\": 1476, \"Age\": 47, \"Sex\": \"Male\", \"Ethnicity simplified\": \"White\", \"Country of birth\": \"United Kingdom\", \"Country of residence\": \"United Kingdom\", \"Nationality\": \"United Kingdom\", \"Language\": \"English\", \"Student status\": \"No\", \"Employment status\": \"Part-Time\"}, {\"Submission id\": \"66ce3022f90a486b0ca13218\", \"Participant id\": \"60188c50141a9415c30301e0\", \"Status\": \"APPROVED\", \"Custom study tncs accepted at\": \"Not Applicable\", \"Started at\": \"2024-08-27T19:59:42.066000Z\", \"Completed at\": \"2024-08-27T20:26:36.600000Z\", \"Reviewed at\": \"2024-08-28T20:08:56.739000Z\", \"Archived at\": \"2024-08-27T20:27:16.339674Z\", \"Time taken\": 1615.0, \"Completion code\": \"CVRK3FRJ\", \"Total approvals\": 460, \"Age\": 52, \"Sex\": \"Male\", \"Ethnicity simplified\": \"White\", \"Country of birth\": \"Canada\", \"Country of residence\": \"Canada\", \"Nationality\": \"Canada\", \"Language\": \"English\", \"Student status\": \"No\", \"Employment status\": \"Full-Time\"}, {\"Submission id\": \"66ce358b6ee52ce04f5a9a98\", \"Participant id\": \"5755c957eb80c4000741a9ce\", \"Status\": \"APPROVED\", \"Custom study tncs accepted at\": \"Not Applicable\", \"Started at\": \"2024-08-27T20:23:27.928000Z\", \"Completed at\": \"2024-08-27T20:40:52.954000Z\", \"Reviewed at\": \"2024-08-28T20:09:30.473000Z\", \"Archived at\": \"2024-08-27T20:40:53.421580Z\", \"Time taken\": 1046.0, \"Completion code\": \"CVRK3FRJ\", \"Total approvals\": 3812, \"Age\": 41, \"Sex\": \"Male\", \"Ethnicity simplified\": \"White\", \"Country of birth\": \"United Kingdom\", \"Country of residence\": \"United Kingdom\", \"Nationality\": \"United Kingdom\", \"Language\": \"English\", \"Student status\": \"No\", \"Employment status\": \"Full-Time\"}, {\"Submission id\": \"66ce40e9525a8b846a74bef1\", \"Participant id\": \"6659e2efdb732dbd7f707a98\", \"Status\": \"APPROVED\", \"Custom study tncs accepted at\": \"Not Applicable\", \"Started at\": \"2024-08-27T21:11:21.930000Z\", \"Completed at\": \"2024-08-27T21:27:12.294000Z\", \"Reviewed at\": \"2024-08-28T20:08:57.686000Z\", \"Archived at\": \"2024-08-27T21:27:12.903411Z\", \"Time taken\": 951.0, \"Completion code\": \"CVRK3FRJ\", \"Total approvals\": 118, \"Age\": 19, \"Sex\": \"Male\", \"Ethnicity simplified\": \"White\", \"Country of birth\": \"United Kingdom\", \"Country of residence\": \"United Kingdom\", \"Nationality\": \"United Kingdom\", \"Language\": \"English\", \"Student status\": \"Yes\", \"Employment status\": \"Part-Time\"}, {\"Submission id\": \"66ce40ea18c0760e162ab58f\", \"Participant id\": \"5efb49177e130c0785b93842\", \"Status\": \"APPROVED\", \"Custom study tncs accepted at\": \"Not Applicable\", \"Started at\": \"2024-08-27T21:11:10.323000Z\", \"Completed at\": \"2024-08-27T21:54:34.962000Z\", \"Reviewed at\": \"2024-08-28T20:08:59.203000Z\", \"Archived at\": \"2024-08-27T21:55:55.612715Z\", \"Time taken\": 2605.0, \"Completion code\": \"CVRK3FRJ\", \"Total approvals\": 1026, \"Age\": 31, \"Sex\": \"Female\", \"Ethnicity simplified\": \"White\", \"Country of birth\": \"United Kingdom\", \"Country of residence\": \"United Kingdom\", \"Nationality\": \"United Kingdom\", \"Language\": \"English\", \"Student status\": \"DATA_EXPIRED\", \"Employment status\": \"DATA_EXPIRED\"}, {\"Submission id\": \"66ce4b0670c940bb6ee1fdfb\", \"Participant id\": \"5ecc0077922a5d0a247e79ac\", \"Status\": \"APPROVED\", \"Custom study tncs accepted at\": \"Not Applicable\", \"Started at\": \"2024-08-27T21:54:31.361000Z\", \"Completed at\": \"2024-08-27T22:13:12.898000Z\", \"Reviewed at\": \"2024-08-28T20:09:29.463000Z\", \"Archived at\": \"2024-08-27T22:13:13.747169Z\", \"Time taken\": 1122.0, \"Completion code\": \"CVRK3FRJ\", \"Total approvals\": 28, \"Age\": 18, \"Sex\": \"Male\", \"Ethnicity simplified\": \"Asian\", \"Country of birth\": \"India\", \"Country of residence\": \"United Kingdom\", \"Nationality\": \"United Kingdom\", \"Language\": \"English\", \"Student status\": \"Yes\", \"Employment status\": \"Unemployed (and job seeking)\"}, {\"Submission id\": \"66cf9d4f8adda54f6a2457ca\", \"Participant id\": \"5a893c8cf49c9a0001f3a221\", \"Status\": \"APPROVED\", \"Custom study tncs accepted at\": \"Not Applicable\", \"Started at\": \"2024-08-28T21:57:40.381000Z\", \"Completed at\": \"2024-08-28T22:28:26.369000Z\", \"Reviewed at\": \"2024-08-30T12:02:19.392000Z\", \"Archived at\": \"2024-08-28T22:28:27.298032Z\", \"Time taken\": 1846.0, \"Completion code\": \"CVRK3FRJ\", \"Total approvals\": 427, \"Age\": 25, \"Sex\": \"Male\", \"Ethnicity simplified\": \"DATA_EXPIRED\", \"Country of birth\": \"United States\", \"Country of residence\": \"United States\", \"Nationality\": \"United States\", \"Language\": \"English\", \"Student status\": \"No\", \"Employment status\": \"DATA_EXPIRED\"}, {\"Submission id\": \"66cfa0aaa06e3e4e97cd10c6\", \"Participant id\": \"5bf60707345b9b00016f0e97\", \"Status\": \"APPROVED\", \"Custom study tncs accepted at\": \"Not Applicable\", \"Started at\": \"2024-08-28T22:12:02.985000Z\", \"Completed at\": \"2024-08-28T22:28:16.008000Z\", \"Reviewed at\": \"2024-08-30T12:02:22.236000Z\", \"Archived at\": \"2024-08-28T22:28:19.741019Z\", \"Time taken\": 974.0, \"Completion code\": \"CVRK3FRJ\", \"Total approvals\": 715, \"Age\": 32, \"Sex\": \"Male\", \"Ethnicity simplified\": \"White\", \"Country of birth\": \"China\", \"Country of residence\": \"Canada\", \"Nationality\": \"Canada\", \"Language\": \"English\", \"Student status\": \"No\", \"Employment status\": \"Full-Time\"}, {\"Submission id\": \"66cf850ed8f67cc67623419b\", \"Participant id\": \"5deb9c5a4de9422935efe5e7\", \"Status\": \"APPROVED\", \"Custom study tncs accepted at\": \"Not Applicable\", \"Started at\": \"2024-08-28T20:14:23.951000Z\", \"Completed at\": \"2024-08-28T20:39:50.071000Z\", \"Reviewed at\": \"2024-08-28T21:05:10.197000Z\", \"Archived at\": \"2024-08-28T20:40:11.785404Z\", \"Time taken\": 1527.0, \"Completion code\": \"CVRK3FRJ\", \"Total approvals\": 2053, \"Age\": 39, \"Sex\": \"Male\", \"Ethnicity simplified\": \"White\", \"Country of birth\": \"United Kingdom\", \"Country of residence\": \"United Kingdom\", \"Nationality\": \"United Kingdom\", \"Language\": \"English\", \"Student status\": \"No\", \"Employment status\": \"Full-Time\"}, {\"Submission id\": \"66cf865b57f665bc15766c0a\", \"Participant id\": \"610f7244c65ae4e57858a700\", \"Status\": \"APPROVED\", \"Custom study tncs accepted at\": \"Not Applicable\", \"Started at\": \"2024-08-28T20:19:45.029000Z\", \"Completed at\": \"2024-08-28T20:52:02.591000Z\", \"Reviewed at\": \"2024-08-28T21:05:01.854000Z\", \"Archived at\": \"2024-08-28T20:52:04.127441Z\", \"Time taken\": 1938.0, \"Completion code\": \"CVRK3FRJ\", \"Total approvals\": 550, \"Age\": 23, \"Sex\": \"Female\", \"Ethnicity simplified\": \"Black\", \"Country of birth\": \"United States\", \"Country of residence\": \"United States\", \"Nationality\": \"United States\", \"Language\": \"English\", \"Student status\": \"No\", \"Employment status\": \"DATA_EXPIRED\"}, {\"Submission id\": \"66cf86676ffcb0f0507f4a16\", \"Participant id\": \"6131597390b9cf1cfc3e8a76\", \"Status\": \"APPROVED\", \"Custom study tncs accepted at\": \"Not Applicable\", \"Started at\": \"2024-08-28T20:19:55.593000Z\", \"Completed at\": \"2024-08-28T20:49:05.143000Z\", \"Reviewed at\": \"2024-08-28T21:05:02.704000Z\", \"Archived at\": \"2024-08-28T20:50:52.422304Z\", \"Time taken\": 1750.0, \"Completion code\": \"CVRK3FRJ\", \"Total approvals\": 156, \"Age\": 31, \"Sex\": \"Female\", \"Ethnicity simplified\": \"White\", \"Country of birth\": \"United States\", \"Country of residence\": \"United States\", \"Nationality\": \"United States\", \"Language\": \"English\", \"Student status\": \"No\", \"Employment status\": \"Unemployed (and job seeking)\"}, {\"Submission id\": \"66cf86a33418f64a07d6c96a\", \"Participant id\": \"66bcc667ba1619c089fecbbb\", \"Status\": \"APPROVED\", \"Custom study tncs accepted at\": \"Not Applicable\", \"Started at\": \"2024-08-28T20:20:57.711000Z\", \"Completed at\": \"2024-08-28T20:33:19.179000Z\", \"Reviewed at\": \"2024-08-28T21:05:04.274000Z\", \"Archived at\": \"2024-08-28T20:33:19.982299Z\", \"Time taken\": 742.0, \"Completion code\": \"CVRK3FRJ\", \"Total approvals\": 4, \"Age\": 25, \"Sex\": \"Female\", \"Ethnicity simplified\": \"White\", \"Country of birth\": \"United States\", \"Country of residence\": \"United States\", \"Nationality\": \"United States\", \"Language\": \"English\", \"Student status\": \"Yes\", \"Employment status\": \"Other\"}, {\"Submission id\": \"66cf871010ddc5acf53e4c48\", \"Participant id\": \"66ce0e269e0d2cd124df4887\", \"Status\": \"APPROVED\", \"Custom study tncs accepted at\": \"Not Applicable\", \"Started at\": \"2024-08-28T20:22:52.485000Z\", \"Completed at\": \"2024-08-28T20:48:04.173000Z\", \"Reviewed at\": \"2024-08-28T21:05:14.579000Z\", \"Archived at\": \"2024-08-28T20:50:05.852984Z\", \"Time taken\": 1512.0, \"Completion code\": \"CVRK3FRJ\", \"Total approvals\": 1, \"Age\": 29, \"Sex\": \"Female\", \"Ethnicity simplified\": \"White\", \"Country of birth\": \"United States\", \"Country of residence\": \"Canada\", \"Nationality\": \"Canada\", \"Language\": \"French\", \"Student status\": \"No\", \"Employment status\": \"Unemployed (and job seeking)\"}, {\"Submission id\": \"66cf875f73ba2bfff8b99453\", \"Participant id\": \"6658bba67f3c13a15a86d803\", \"Status\": \"APPROVED\", \"Custom study tncs accepted at\": \"Not Applicable\", \"Started at\": \"2024-08-28T20:24:08.626000Z\", \"Completed at\": \"2024-08-28T20:39:33.538000Z\", \"Reviewed at\": \"2024-08-28T21:05:11.465000Z\", \"Archived at\": \"2024-08-28T20:40:05.988614Z\", \"Time taken\": 925.0, \"Completion code\": \"CVRK3FRJ\", \"Total approvals\": 167, \"Age\": 32, \"Sex\": \"Female\", \"Ethnicity simplified\": \"Black\", \"Country of birth\": \"United Kingdom\", \"Country of residence\": \"United Kingdom\", \"Nationality\": \"United Kingdom\", \"Language\": \"English\", \"Student status\": \"No\", \"Employment status\": \"Full-Time\"}, {\"Submission id\": \"66cf8985e831ef8a6a262eaa\", \"Participant id\": \"5ee1cf1e0df8e55c6b9e1f1a\", \"Status\": \"APPROVED\", \"Custom study tncs accepted at\": \"Not Applicable\", \"Started at\": \"2024-08-28T20:34:28.505000Z\", \"Completed at\": \"2024-08-28T20:53:54.846000Z\", \"Reviewed at\": \"2024-08-28T21:05:05.037000Z\", \"Archived at\": \"2024-08-28T20:53:55.370097Z\", \"Time taken\": 1167.0, \"Completion code\": \"CVRK3FRJ\", \"Total approvals\": 1345, \"Age\": 26, \"Sex\": \"Female\", \"Ethnicity simplified\": \"Other\", \"Country of birth\": \"Canada\", \"Country of residence\": \"Canada\", \"Nationality\": \"Canada\", \"Language\": \"Bengali\", \"Student status\": \"No\", \"Employment status\": \"Full-Time\"}, {\"Submission id\": \"66cf8a84d29a5d9340a80f5c\", \"Participant id\": \"66ccc8f8819490330c532373\", \"Status\": \"APPROVED\", \"Custom study tncs accepted at\": \"Not Applicable\", \"Started at\": \"2024-08-28T20:37:27.024000Z\", \"Completed at\": \"2024-08-28T21:02:42.894000Z\", \"Reviewed at\": \"2024-08-28T21:05:15.665000Z\", \"Archived at\": \"2024-08-28T21:02:44.075802Z\", \"Time taken\": 1516.0, \"Completion code\": \"CVRK3FRJ\", \"Total approvals\": 9, \"Age\": 30, \"Sex\": \"Male\", \"Ethnicity simplified\": \"White\", \"Country of birth\": \"Australia\", \"Country of residence\": \"United Kingdom\", \"Nationality\": \"Australia\", \"Language\": \"English\", \"Student status\": \"No\", \"Employment status\": \"Full-Time\"}]}}, {\"mode\": \"vega-lite\"});\n",
       "</script>"
      ],
      "text/plain": [
       "alt.Chart(...)"
      ]
     },
     "execution_count": 66,
     "metadata": {},
     "output_type": "execute_result"
    }
   ],
   "source": [
    "print(prolific_df['Age'].mean(), prolific_df['Age'].std())\n",
    "alt.Chart(prolific_df).mark_bar().encode(\n",
    "    x=alt.X(\"Age:Q\", bin=True),\n",
    "    y='count()',\n",
    ")"
   ]
  },
  {
   "cell_type": "code",
   "execution_count": 73,
   "metadata": {},
   "outputs": [
    {
     "name": "stdout",
     "output_type": "stream",
     "text": [
      "Country of residence\n",
      "Canada            32\n",
      "United Kingdom    30\n",
      "United States     21\n",
      "Name: count, dtype: int64\n",
      "\n",
      "\n"
     ]
    }
   ],
   "source": [
    "# # prolific_df['Country'].value_counts()\n",
    "cols_of_interest = [\n",
    "#     # 'Submission id',\n",
    "#     # 'Participant id',\n",
    "#     # 'Status',\n",
    "#     # 'Custom study tncs accepted at',\n",
    "#     # 'Started at',\n",
    "#     # 'Completed at',\n",
    "#     # 'Reviewed at',\n",
    "#     # 'Archived at',\n",
    "#     # 'Time taken',\n",
    "#     # 'Completion code',\n",
    "#     # 'Total approvals',\n",
    "#     'Age',\n",
    "#     'Sex',\n",
    "#     # 'Ethnicity simplified',\n",
    "#     # 'Country of birth',\n",
    "    'Country of residence',\n",
    "#     # 'Nationality',\n",
    "#     'Language',\n",
    "#     # 'Student status',\n",
    "#     # 'Employment status'\n",
    "]\n",
    "for col in cols_of_interest:\n",
    "    print(prolific_df[col].value_counts())\n",
    "    print('\\n')"
   ]
  }
 ],
 "metadata": {
  "kernelspec": {
   "display_name": "venv",
   "language": "python",
   "name": "python3"
  },
  "language_info": {
   "codemirror_mode": {
    "name": "ipython",
    "version": 3
   },
   "file_extension": ".py",
   "mimetype": "text/x-python",
   "name": "python",
   "nbconvert_exporter": "python",
   "pygments_lexer": "ipython3",
   "version": "3.12.0"
  }
 },
 "nbformat": 4,
 "nbformat_minor": 2
}
